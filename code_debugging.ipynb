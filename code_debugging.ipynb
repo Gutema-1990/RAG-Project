{
 "cells": [
  {
   "cell_type": "code",
   "execution_count": 4,
   "metadata": {},
   "outputs": [],
   "source": [
    "from langchain.text_splitter import RecursiveCharacterTextSplitter\n",
    "from langchain.vectorstores import FAISS\n",
    "import os\n",
    "from langchain_nomic import NomicEmbeddings\n",
    "from dotenv import load_dotenv\n",
    "# from openai.error import RateLimitError\n",
    "from langchain_openai import ChatOpenAI\n",
    "import networkx as nx\n",
    "import fitz\n",
    "from typing import List\n",
    "import numpy as np\n",
    "from knowledge_graph import KnowledgeGraph\n",
    "from query_engine import QueryEngine\n",
    "from langchain.document_loaders import  PyPDFLoader\n",
    "\n",
    "load_dotenv()  # Load environment variables from .env file\n",
    "\n",
    "api_key = os.getenv(\"NOMIC_API_KEY\")\n",
    "\n",
    "path = \"/home/name-1/AI-Agent/RAG_Project/RAG_Project/data/Understanding_Climate_Change.pdf\"\n",
    "loader = PyPDFLoader(path)\n",
    "documents = loader.load()\n",
    "documents = documents[:10]\n",
    "\n",
    "# DocumentProcessor's process_documents\n",
    "text_splitter = RecursiveCharacterTextSplitter(chunk_size=1000, chunk_overlap=200)\n",
    "embeddings =  NomicEmbeddings(model=\"nomic-embed-text-v1.5\",)\n",
    "splits = text_splitter.split_documents(documents)\n",
    "vector_store = FAISS.from_documents(splits, embeddings)\n",
    "graph = nx.Graph()\n",
    "\n",
    "knowledge_graph = KnowledgeGraph()\n",
    "llm = ChatOpenAI(\n",
    "                model=\"lmstudio-community/Meta-Llama-3.1-8B-Instruct-GGUF\",\n",
    "                base_url=\"http://10.2.125.37:1234/v1\",\n",
    "                api_key=\"lm-studio\"\n",
    "            )"
   ]
  },
  {
   "cell_type": "code",
   "execution_count": 5,
   "metadata": {},
   "outputs": [],
   "source": [
    "splits = text_splitter.split_documents(documents)\n",
    "vector_store = FAISS.from_documents(splits, embeddings)"
   ]
  },
  {
   "cell_type": "code",
   "execution_count": 6,
   "metadata": {},
   "outputs": [],
   "source": [
    "for i, split in enumerate(splits):\n",
    "    graph.add_node(i, content=split.page_content)"
   ]
  },
  {
   "cell_type": "code",
   "execution_count": 7,
   "metadata": {},
   "outputs": [],
   "source": [
    "texts = [split.page_content for split in splits]\n",
    "create_embedding = embeddings.embed_documents(texts)"
   ]
  },
  {
   "cell_type": "code",
   "execution_count": null,
   "metadata": {},
   "outputs": [],
   "source": [
    "with ThreadPoolExecutor() as executor:\n",
    "    future_to_node = {executor.submit(_extract_concepts_and_entities, split.page_content, llm): i \n",
    "                        for i, split in enumerate(splits)}\n",
    "    \n",
    "    for future in tqdm(as_completed(future_to_node), total=len(splits), desc=\"Extracting concepts and entities\"):\n",
    "        node = future_to_node[future]\n",
    "        concepts = future.result()\n",
    "        graph.nodes[node]['concepts'] = concepts"
   ]
  }
 ],
 "metadata": {
  "kernelspec": {
   "display_name": "venv",
   "language": "python",
   "name": "python3"
  },
  "language_info": {
   "codemirror_mode": {
    "name": "ipython",
    "version": 3
   },
   "file_extension": ".py",
   "mimetype": "text/x-python",
   "name": "python",
   "nbconvert_exporter": "python",
   "pygments_lexer": "ipython3",
   "version": "3.11.5"
  }
 },
 "nbformat": 4,
 "nbformat_minor": 2
}
