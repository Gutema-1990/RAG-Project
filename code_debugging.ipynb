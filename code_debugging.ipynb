{
 "cells": [
  {
   "cell_type": "code",
   "execution_count": 9,
   "metadata": {},
   "outputs": [],
   "source": [
    "from langchain.text_splitter import RecursiveCharacterTextSplitter\n",
    "from langchain.vectorstores import FAISS\n",
    "import os\n",
    "from langchain_nomic import NomicEmbeddings\n",
    "from dotenv import load_dotenv\n",
    "# from openai.error import RateLimitError\n",
    "from langchain_openai import ChatOpenAI\n",
    "import networkx as nx\n",
    "import fitz\n",
    "from typing import List\n",
    "import numpy as np\n",
    "from knowledge_graph import KnowledgeGraph\n",
    "from query_engine import QueryEngine\n",
    "from langchain.document_loaders import  PyPDFLoader\n",
    "from concurrent.futures import ThreadPoolExecutor, as_completed\n",
    "import tqdm as tqdm\n",
    "from langchain_core.prompts import PromptTemplate\n",
    "# from typing import \n",
    "from langchain_core.pydantic_v1 import BaseModel, Field\n",
    "import spacy\n",
    "from spacy.cli import download\n",
    "\n",
    "class Concepts(BaseModel):\n",
    "    concepts_list: List[str] = Field(description=\"List of concepts\")\n",
    "\n",
    "\n",
    "load_dotenv()  # Load environment variables from .env file\n",
    "\n",
    "api_key = os.getenv(\"NOMIC_API_KEY\")\n",
    "\n",
    "path = \"/home/name-1/AI-Agent/RAG_Project/RAG_Project/data/Understanding_Climate_Change.pdf\"\n",
    "loader = PyPDFLoader(path)\n",
    "documents = loader.load()\n",
    "documents = documents[:10]\n",
    "\n",
    "# DocumentProcessor's process_documents\n",
    "text_splitter = RecursiveCharacterTextSplitter(chunk_size=1000, chunk_overlap=200)\n",
    "embeddings =  NomicEmbeddings(model=\"nomic-embed-text-v1.5\",)\n",
    "splits = text_splitter.split_documents(documents)\n",
    "vector_store = FAISS.from_documents(splits, embeddings)\n",
    "graph = nx.Graph()\n",
    "\n",
    "knowledge_graph = KnowledgeGraph()\n",
    "llm = ChatOpenAI(\n",
    "                model=\"lmstudio-community/Meta-Llama-3.1-8B-Instruct-GGUF\",\n",
    "                base_url=\"http://10.2.125.37:1234/v1\",\n",
    "                api_key=\"lm-studio\"\n",
    "            )"
   ]
  },
  {
   "cell_type": "code",
   "execution_count": 31,
   "metadata": {},
   "outputs": [
    {
     "name": "stderr",
     "output_type": "stream",
     "text": [
      "/tmp/ipykernel_42891/1696475101.py:1: LangChainDeprecationWarning: The method `BaseChatModel.__call__` was deprecated in langchain-core 0.1.7 and will be removed in 1.0. Use invoke instead.\n",
      "  llm(\"what is the meaning of life?\")\n"
     ]
    },
    {
     "data": {
      "text/plain": [
       "AIMessage(content=\"The question of what the meaning of life is has been debated and explored by philosophers, theologians, scientists, and many others for centuries. There are various perspectives on this topic, and it's difficult to provide a single definitive answer.\\n\\nThat being said, here are some possible ways to approach the question:\\n\\n1. **Biological perspective**: From a purely biological standpoint, the meaning of life could be seen as survival and reproduction. Organisms exist to survive, find food, shelter, and mates, and reproduce to pass on their genes to the next generation.\\n2. **Personal fulfillment**: Many people believe that the meaning of life is to pursue happiness, personal growth, and self-fulfillment. This might involve developing one's passions, building meaningful relationships, and achieving a sense of purpose and contentment.\\n3. **Spiritual or religious perspective**: For many individuals, the meaning of life is connected to their spiritual or religious beliefs. They may see life as a journey towards enlightenment, salvation, or union with a higher power.\\n4. **Existentialist perspective**: Existentialists argue that life has no inherent meaning; instead, we must create our own purpose and meaning through our choices and actions. This perspective emphasizes individual freedom and responsibility.\\n5. **Humanistic perspective**: Humanists focus on the value of human existence and the pursuit of happiness, fulfillment, and self-actualization. They believe that individuals have the capacity to make choices and shape their own lives.\\n\\nUltimately, the meaning of life may be a deeply personal and subjective question that each individual must answer for themselves.\\n\\nWhat do you think? How would you approach this question?\", additional_kwargs={'refusal': None}, response_metadata={'token_usage': {'completion_tokens': 331, 'prompt_tokens': 40, 'total_tokens': 371}, 'model_name': 'lmstudio-community/Meta-Llama-3.1-8B-Instruct-GGUF/Meta-Llama-3.1-8B-Instruct-Q8_0.gguf', 'system_fingerprint': None, 'finish_reason': 'stop', 'logprobs': None}, id='run-65961537-beb6-48eb-a175-e97d7b601a8b-0', usage_metadata={'input_tokens': 40, 'output_tokens': 331, 'total_tokens': 371})"
      ]
     },
     "execution_count": 31,
     "metadata": {},
     "output_type": "execute_result"
    }
   ],
   "source": [
    "llm(\"what is the meaning of life?\")"
   ]
  },
  {
   "cell_type": "code",
   "execution_count": 10,
   "metadata": {},
   "outputs": [],
   "source": [
    "splits = text_splitter.split_documents(documents)\n",
    "vector_store = FAISS.from_documents(splits, embeddings)"
   ]
  },
  {
   "cell_type": "code",
   "execution_count": 11,
   "metadata": {},
   "outputs": [],
   "source": [
    "for i, split in enumerate(splits):\n",
    "    graph.add_node(i, content=split.page_content)"
   ]
  },
  {
   "cell_type": "code",
   "execution_count": 12,
   "metadata": {},
   "outputs": [],
   "source": [
    "texts = [split.page_content for split in splits]\n",
    "create_embedding = embeddings.embed_documents(texts)"
   ]
  },
  {
   "cell_type": "code",
   "execution_count": 13,
   "metadata": {},
   "outputs": [],
   "source": [
    "concept_cache = {}\n",
    "def _load_spacy_model():\n",
    "    \"\"\"\n",
    "    Loads the spaCy NLP model, downloading it if necessary.\n",
    "    \n",
    "    Args:\n",
    "    - None\n",
    "    \n",
    "    Returns:\n",
    "    - spacy.Language: An instance of a spaCy NLP model.\n",
    "    \"\"\"\n",
    "    try:\n",
    "        return spacy.load(\"en_core_web_sm\")\n",
    "    except OSError:\n",
    "        print(\"Downloading spaCy model...\")\n",
    "        download(\"en_core_web_sm\")\n",
    "        return spacy.load(\"en_core_web_sm\")\n",
    "nlp = _load_spacy_model()"
   ]
  },
  {
   "cell_type": "code",
   "execution_count": 14,
   "metadata": {},
   "outputs": [],
   "source": [
    "def _extract_concepts_and_entities(content, llm):\n",
    "    \"\"\"\n",
    "    Extracts concepts and named entities from the content using spaCy and a large language model.\n",
    "    \n",
    "    Args:\n",
    "    - content (str): The content from which to extract concepts and entities.\n",
    "    - llm: An instance of a large language model.\n",
    "    \n",
    "    Returns:\n",
    "    - list: A list of extracted concepts and entities.\n",
    "    \"\"\"\n",
    "    if content in concept_cache:\n",
    "        return concept_cache[content]\n",
    "    \n",
    "    # Extract named entities using spaCy\n",
    "    doc = nlp(content)\n",
    "    named_entities = [ent.text for ent in doc.ents if ent.label_ in [\"PERSON\", \"ORG\", \"GPE\", \"WORK_OF_ART\"]]\n",
    "    \n",
    "    # Extract general concepts using LLM\n",
    "    concept_extraction_prompt = PromptTemplate(\n",
    "        input_variables=[\"text\"],\n",
    "        template=\"Extract key concepts (excluding named entities) from the following text:\\n\\n{text}\\n\\nKey concepts:\"\n",
    "    )\n",
    "    concept_chain = concept_extraction_prompt | llm.with_structured_output(Concepts)\n",
    "    general_concepts = concept_chain.invoke({\"text\": content}).concepts_list\n",
    "    \n",
    "    # Combine named entities and general concepts\n",
    "    all_concepts = list(set(named_entities + general_concepts))\n",
    "    \n",
    "    concept_cache[content] = all_concepts\n",
    "    return all_concepts"
   ]
  },
  {
   "cell_type": "code",
   "execution_count": 18,
   "metadata": {},
   "outputs": [],
   "source": [
    "content = split.page_content\n",
    "if content in concept_cache:\n",
    "    all_concepts = concept_cache[content]"
   ]
  },
  {
   "cell_type": "code",
   "execution_count": 19,
   "metadata": {},
   "outputs": [],
   "source": [
    "doc = nlp(content)\n",
    "named_entities = [ent.text for ent in doc.ents if ent.label_ in [\"PERSON\", \"ORG\", \"GPE\", \"WORK_OF_ART\"]]"
   ]
  },
  {
   "cell_type": "code",
   "execution_count": 20,
   "metadata": {},
   "outputs": [
    {
     "data": {
      "text/plain": [
       "PromptTemplate(input_variables=['text'], template='Extract key concepts (excluding named entities) from the following text:\\n\\n{text}\\n\\nKey concepts:')"
      ]
     },
     "execution_count": 20,
     "metadata": {},
     "output_type": "execute_result"
    }
   ],
   "source": [
    "concept_extraction_prompt = PromptTemplate(\n",
    "    input_variables=[\"text\"],\n",
    "    template=\"Extract key concepts (excluding named entities) from the following text:\\n\\n{text}\\n\\nKey concepts:\"\n",
    ")\n",
    "concept_extraction_prompt"
   ]
  },
  {
   "cell_type": "code",
   "execution_count": 28,
   "metadata": {},
   "outputs": [
    {
     "data": {
      "text/plain": [
       "'caps, and pollution controls. Enforcement and compliance are critical for their  effectiveness.  \\nLocal and Community Initiatives  \\nUrban Climate Action  \\nCities play a pivotal role in climate action due to their high population densities and \\neconomic activities. Urban climate initiatives include sustainable transportation systems, \\ngreen building standards, and climate -resilient infrastructure. Community eng agement and \\nparticipatory planning are essential for successful implementation.  \\nCommunity -Based Conservation'"
      ]
     },
     "execution_count": 28,
     "metadata": {},
     "output_type": "execute_result"
    }
   ],
   "source": [
    "content"
   ]
  },
  {
   "cell_type": "code",
   "execution_count": 21,
   "metadata": {},
   "outputs": [
    {
     "data": {
      "text/plain": [
       "PromptTemplate(input_variables=['text'], template='Extract key concepts (excluding named entities) from the following text:\\n\\n{text}\\n\\nKey concepts:')\n",
       "| RunnableBinding(bound=ChatOpenAI(client=<openai.resources.chat.completions.Completions object at 0x7e6ce25d7490>, async_client=<openai.resources.chat.completions.AsyncCompletions object at 0x7e6ce3a75010>, root_client=<openai.OpenAI object at 0x7e6ce1a6f010>, root_async_client=<openai.AsyncOpenAI object at 0x7e6ce25d7790>, model_name='lmstudio-community/Meta-Llama-3.1-8B-Instruct-GGUF', openai_api_key=SecretStr('**********'), openai_api_base='http://10.2.125.37:1234/v1', openai_proxy=''), kwargs={'tools': [{'type': 'function', 'function': {'name': 'Concepts', 'description': '', 'parameters': {'type': 'object', 'properties': {'concepts_list': {'description': 'List of concepts', 'type': 'array', 'items': {'type': 'string'}}}, 'required': ['concepts_list']}}}], 'parallel_tool_calls': False, 'tool_choice': {'type': 'function', 'function': {'name': 'Concepts'}}})\n",
       "| PydanticToolsParser(first_tool_only=True, tools=[<class '__main__.Concepts'>])"
      ]
     },
     "execution_count": 21,
     "metadata": {},
     "output_type": "execute_result"
    }
   ],
   "source": [
    "concept_chain = concept_extraction_prompt | llm.with_structured_output(Concepts)\n",
    "concept_chain"
   ]
  },
  {
   "cell_type": "code",
   "execution_count": 29,
   "metadata": {},
   "outputs": [
    {
     "name": "stdout",
     "output_type": "stream",
     "text": [
      "None\n"
     ]
    }
   ],
   "source": [
    "general_concepts = concept_chain.invoke({\"text\": \"how can i improve it\"})\n",
    "print(general_concepts)"
   ]
  },
  {
   "cell_type": "code",
   "execution_count": 33,
   "metadata": {},
   "outputs": [
    {
     "name": "stdout",
     "output_type": "stream",
     "text": [
      "Input to chain: {'text': 'how can i improve it'}\n",
      "Output from chain: None\n"
     ]
    }
   ],
   "source": [
    "from pydantic import BaseModel, Field\n",
    "from typing import List\n",
    "from langchain.prompts import PromptTemplate\n",
    "from langchain_openai import ChatOpenAI\n",
    "\n",
    "# Define your Pydantic model\n",
    "class Concepts(BaseModel):\n",
    "    concepts_list: List[str] = Field(description=\"List of concepts\")\n",
    "\n",
    "# Initialize the LLM\n",
    "llm = ChatOpenAI(\n",
    "    model=\"lmstudio-community/Meta-Llama-3.1-8B-Instruct-GGUF\",\n",
    "    base_url=\"http://10.2.125.37:1234/v1\",\n",
    "    api_key=\"lm-studio\"\n",
    ")\n",
    "\n",
    "# Create the prompt template\n",
    "concept_extraction_prompt = PromptTemplate(\n",
    "    input_variables=[\"text\"],\n",
    "    template=\"Extract key concepts (excluding named entities) from the following text:\\n\\n{text}\\n\\nKey concepts:\"\n",
    ")\n",
    "\n",
    "# Create the chain\n",
    "concept_chain = concept_extraction_prompt | llm.with_structured_output(Concepts)\n",
    "\n",
    "# Invoke the chain\n",
    "input_data = {\"text\": \"how can i improve it\"}\n",
    "print(\"Input to chain:\", input_data)\n",
    "general_concepts = concept_chain.invoke(input_data)\n",
    "print(\"Output from chain:\", general_concepts)"
   ]
  },
  {
   "cell_type": "code",
   "execution_count": 30,
   "metadata": {},
   "outputs": [],
   "source": [
    "with ThreadPoolExecutor() as executor:\n",
    "    future_to_node = {executor.submit(_extract_concepts_and_entities, split.page_content, llm): i \n",
    "                        for i, split in enumerate(splits)}\n",
    "    \n",
    "    for future in tqdm(as_completed(future_to_node), total=len(splits), desc=\"Extracting concepts and entities\"):\n",
    "        node = future_to_node[future]\n",
    "        concepts = future.result()\n",
    "        graph.nodes[node]['concepts'] = concepts"
   ]
  }
 ],
 "metadata": {
  "kernelspec": {
   "display_name": "venv",
   "language": "python",
   "name": "python3"
  },
  "language_info": {
   "codemirror_mode": {
    "name": "ipython",
    "version": 3
   },
   "file_extension": ".py",
   "mimetype": "text/x-python",
   "name": "python",
   "nbconvert_exporter": "python",
   "pygments_lexer": "ipython3",
   "version": "3.11.5"
  }
 },
 "nbformat": 4,
 "nbformat_minor": 2
}
