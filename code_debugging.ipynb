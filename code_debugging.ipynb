{
 "cells": [
  {
   "cell_type": "code",
   "execution_count": 9,
   "metadata": {},
   "outputs": [],
   "source": [
    "from langchain.text_splitter import RecursiveCharacterTextSplitter\n",
    "from langchain.vectorstores import FAISS\n",
    "import os\n",
    "from langchain_nomic import NomicEmbeddings\n",
    "from dotenv import load_dotenv\n",
    "# from openai.error import RateLimitError\n",
    "from langchain_openai import ChatOpenAI\n",
    "import networkx as nx\n",
    "import fitz\n",
    "from typing import List\n",
    "import numpy as np\n",
    "from knowledge_graph import KnowledgeGraph\n",
    "from query_engine import QueryEngine\n",
    "from langchain.document_loaders import  PyPDFLoader\n",
    "from concurrent.futures import ThreadPoolExecutor, as_completed\n",
    "import tqdm as tqdm\n",
    "from langchain_core.prompts import PromptTemplate\n",
    "# from typing import \n",
    "from langchain_core.pydantic_v1 import BaseModel, Field\n",
    "import spacy\n",
    "from spacy.cli import download\n",
    "\n",
    "class Concepts(BaseModel):\n",
    "    concepts_list: List[str] = Field(description=\"List of concepts\")\n",
    "\n",
    "\n",
    "load_dotenv()  # Load environment variables from .env file\n",
    "\n",
    "api_key = os.getenv(\"NOMIC_API_KEY\")\n",
    "\n",
    "path = \"/home/name-1/AI-Agent/RAG_Project/RAG_Project/data/Understanding_Climate_Change.pdf\"\n",
    "loader = PyPDFLoader(path)\n",
    "documents = loader.load()\n",
    "documents = documents[:10]\n",
    "\n",
    "# DocumentProcessor's process_documents\n",
    "text_splitter = RecursiveCharacterTextSplitter(chunk_size=1000, chunk_overlap=200)\n",
    "embeddings =  NomicEmbeddings(model=\"nomic-embed-text-v1.5\",)\n",
    "splits = text_splitter.split_documents(documents)\n",
    "vector_store = FAISS.from_documents(splits, embeddings)\n",
    "graph = nx.Graph()\n",
    "\n",
    "knowledge_graph = KnowledgeGraph()\n",
    "llm = ChatOpenAI(\n",
    "                model=\"lmstudio-community/Meta-Llama-3.1-8B-Instruct-GGUF\",\n",
    "                base_url=\"http://10.2.125.37:1234/v1\",\n",
    "                api_key=\"lm-studio\"\n",
    "            )"
   ]
  },
  {
   "cell_type": "code",
   "execution_count": 10,
   "metadata": {},
   "outputs": [],
   "source": [
    "splits = text_splitter.split_documents(documents)\n",
    "vector_store = FAISS.from_documents(splits, embeddings)"
   ]
  },
  {
   "cell_type": "code",
   "execution_count": 11,
   "metadata": {},
   "outputs": [],
   "source": [
    "for i, split in enumerate(splits):\n",
    "    graph.add_node(i, content=split.page_content)"
   ]
  },
  {
   "cell_type": "code",
   "execution_count": 12,
   "metadata": {},
   "outputs": [],
   "source": [
    "texts = [split.page_content for split in splits]\n",
    "create_embedding = embeddings.embed_documents(texts)"
   ]
  },
  {
   "cell_type": "code",
   "execution_count": 13,
   "metadata": {},
   "outputs": [],
   "source": [
    "concept_cache = {}\n",
    "def _load_spacy_model():\n",
    "    \"\"\"\n",
    "    Loads the spaCy NLP model, downloading it if necessary.\n",
    "    \n",
    "    Args:\n",
    "    - None\n",
    "    \n",
    "    Returns:\n",
    "    - spacy.Language: An instance of a spaCy NLP model.\n",
    "    \"\"\"\n",
    "    try:\n",
    "        return spacy.load(\"en_core_web_sm\")\n",
    "    except OSError:\n",
    "        print(\"Downloading spaCy model...\")\n",
    "        download(\"en_core_web_sm\")\n",
    "        return spacy.load(\"en_core_web_sm\")\n",
    "nlp = _load_spacy_model()"
   ]
  },
  {
   "cell_type": "code",
   "execution_count": 14,
   "metadata": {},
   "outputs": [],
   "source": [
    "def _extract_concepts_and_entities(content, llm):\n",
    "    \"\"\"\n",
    "    Extracts concepts and named entities from the content using spaCy and a large language model.\n",
    "    \n",
    "    Args:\n",
    "    - content (str): The content from which to extract concepts and entities.\n",
    "    - llm: An instance of a large language model.\n",
    "    \n",
    "    Returns:\n",
    "    - list: A list of extracted concepts and entities.\n",
    "    \"\"\"\n",
    "    if content in concept_cache:\n",
    "        return concept_cache[content]\n",
    "    \n",
    "    # Extract named entities using spaCy\n",
    "    doc = nlp(content)\n",
    "    named_entities = [ent.text for ent in doc.ents if ent.label_ in [\"PERSON\", \"ORG\", \"GPE\", \"WORK_OF_ART\"]]\n",
    "    \n",
    "    # Extract general concepts using LLM\n",
    "    concept_extraction_prompt = PromptTemplate(\n",
    "        input_variables=[\"text\"],\n",
    "        template=\"Extract key concepts (excluding named entities) from the following text:\\n\\n{text}\\n\\nKey concepts:\"\n",
    "    )\n",
    "    concept_chain = concept_extraction_prompt | llm.with_structured_output(Concepts)\n",
    "    general_concepts = concept_chain.invoke({\"text\": content}).concepts_list\n",
    "    \n",
    "    # Combine named entities and general concepts\n",
    "    all_concepts = list(set(named_entities + general_concepts))\n",
    "    \n",
    "    concept_cache[content] = all_concepts\n",
    "    return all_concepts"
   ]
  },
  {
   "cell_type": "code",
   "execution_count": null,
   "metadata": {},
   "outputs": [],
   "source": [
    "with ThreadPoolExecutor() as executor:\n",
    "    future_to_node = {executor.submit(_extract_concepts_and_entities, split.page_content, llm): i \n",
    "                        for i, split in enumerate(splits)}\n",
    "    \n",
    "    for future in tqdm(as_completed(future_to_node), total=len(splits), desc=\"Extracting concepts and entities\"):\n",
    "        node = future_to_node[future]\n",
    "        concepts = future.result()\n",
    "        graph.nodes[node]['concepts'] = concepts"
   ]
  }
 ],
 "metadata": {
  "kernelspec": {
   "display_name": "venv",
   "language": "python",
   "name": "python3"
  },
  "language_info": {
   "codemirror_mode": {
    "name": "ipython",
    "version": 3
   },
   "file_extension": ".py",
   "mimetype": "text/x-python",
   "name": "python",
   "nbconvert_exporter": "python",
   "pygments_lexer": "ipython3",
   "version": "3.11.5"
  }
 },
 "nbformat": 4,
 "nbformat_minor": 2
}
