{
 "cells": [
  {
   "cell_type": "code",
   "execution_count": 1,
   "metadata": {},
   "outputs": [],
   "source": [
    "from pydantic import BaseModel\n",
    "\n",
    "# Define your Pydantic model to structure the output\n",
    "class ExpandedAnswer(BaseModel):\n",
    "    initial_answer: str\n",
    "    detailed_answer: str\n"
   ]
  },
  {
   "cell_type": "code",
   "execution_count": 2,
   "metadata": {},
   "outputs": [],
   "source": [
    "from langchain.prompts import PromptTemplate\n",
    "from langchain_openai import ChatOpenAI\n",
    "\n",
    "# Define the prompt template\n",
    "initial_prompt = PromptTemplate.from_template(\n",
    "    template=\"Given the context: '{context}', what is the answer to the question: '{question}'?\"\n",
    ")\n",
    "\n",
    "# Initialize the LLM\n",
    "# llm = ChatOpenAI(model=\"gpt-4\", temperature=0.7)\n",
    "llm = ChatOpenAI(\n",
    "                model=\"lmstudio-community/Meta-Llama-3.1-8B-Instruct-GGUF\",\n",
    "                base_url=\"http://10.2.125.37:1234/v1\",\n",
    "                api_key=\"lm-studio\"\n",
    "            )\n"
   ]
  },
  {
   "cell_type": "code",
   "execution_count": 3,
   "metadata": {},
   "outputs": [],
   "source": [
    "# Chain using the pipe syntax and structured output with Pydantic\n",
    "chain = initial_prompt | llm.with_structured_output(ExpandedAnswer)"
   ]
  },
  {
   "cell_type": "code",
   "execution_count": 4,
   "metadata": {},
   "outputs": [
    {
     "ename": "AttributeError",
     "evalue": "'NoneType' object has no attribute 'initial_answer'",
     "output_type": "error",
     "traceback": [
      "\u001b[0;31m---------------------------------------------------------------------------\u001b[0m",
      "\u001b[0;31mAttributeError\u001b[0m                            Traceback (most recent call last)",
      "Cell \u001b[0;32mIn[4], line 12\u001b[0m\n\u001b[1;32m      6\u001b[0m response \u001b[38;5;241m=\u001b[39m chain\u001b[38;5;241m.\u001b[39minvoke({\n\u001b[1;32m      7\u001b[0m     \u001b[38;5;124m\"\u001b[39m\u001b[38;5;124mcontext\u001b[39m\u001b[38;5;124m\"\u001b[39m: context,\n\u001b[1;32m      8\u001b[0m     \u001b[38;5;124m\"\u001b[39m\u001b[38;5;124mquestion\u001b[39m\u001b[38;5;124m\"\u001b[39m: question\n\u001b[1;32m      9\u001b[0m })\n\u001b[1;32m     11\u001b[0m \u001b[38;5;66;03m# Access the structured output\u001b[39;00m\n\u001b[0;32m---> 12\u001b[0m \u001b[38;5;28mprint\u001b[39m(\u001b[43mresponse\u001b[49m\u001b[38;5;241;43m.\u001b[39;49m\u001b[43minitial_answer\u001b[49m)\n\u001b[1;32m     13\u001b[0m \u001b[38;5;28mprint\u001b[39m(response\u001b[38;5;241m.\u001b[39mdetailed_answer)\n",
      "\u001b[0;31mAttributeError\u001b[0m: 'NoneType' object has no attribute 'initial_answer'"
     ]
    }
   ],
   "source": [
    "# Define the input data\n",
    "context = \"AI is increasingly being adopted in various industries, including healthcare...\"\n",
    "question = \"What are the key benefits of AI in healthcare?\"\n",
    "\n",
    "# Run the chain with the input data\n",
    "response = chain.invoke({\n",
    "    \"context\": context,\n",
    "    \"question\": question\n",
    "})\n",
    "\n",
    "# Access the structured output\n",
    "print(response.initial_answer)\n",
    "print(response.detailed_answer)"
   ]
  },
  {
   "cell_type": "code",
   "execution_count": null,
   "metadata": {},
   "outputs": [],
   "source": [
    "from langchain.prompts import PromptTemplate\n",
    "from langchain_openai import ChatOpenAI\n",
    "from pydantic import BaseModel\n",
    "\n",
    "# Define your Pydantic model\n",
    "class ExpandedAnswer(BaseModel):\n",
    "    initial_answer: str\n",
    "    detailed_answer: str\n",
    "\n",
    "# Define the prompt template\n",
    "initial_prompt = PromptTemplate.from_template(\n",
    "    template=\"Given the context: '{context}', what is the answer to the question: '{question}'?\"\n",
    ")\n",
    "\n",
    "# Initialize the LLM with your custom configuration\n",
    "llm = ChatOpenAI(\n",
    "    model=\"lmstudio-community/Meta-Llama-3.1-8B-Instruct-GGUF\",\n",
    "    base_url=\"http://10.2.125.37:1234/v1\",\n",
    "    api_key=\"lm-studio\"\n",
    ")\n",
    "\n",
    "# Use chaining with structured output\n",
    "chain = initial_prompt | llm.with_structured_output(ExpandedAnswer)\n",
    "\n",
    "# Define the input data\n",
    "context = \"AI is increasingly being adopted in various industries, including healthcare...\"\n",
    "question = \"What are the key benefits of AI in healthcare?\"\n",
    "\n",
    "# Run the chain with the input data\n",
    "response = chain.invoke({\n",
    "    \"context\": context,\n",
    "    \"question\": question\n",
    "})\n",
    "\n",
    "# Debug: Print the raw response\n",
    "print(\"Raw response:\", response)\n",
    "\n",
    "# Safely access the structured output\n",
    "if response:\n",
    "    print(response.initial_answer)\n",
    "    print(response.detailed_answer)\n",
    "else:\n",
    "    print(\"The model did not return a valid response.\")\n"
   ]
  }
 ],
 "metadata": {
  "kernelspec": {
   "display_name": "venv",
   "language": "python",
   "name": "python3"
  },
  "language_info": {
   "codemirror_mode": {
    "name": "ipython",
    "version": 3
   },
   "file_extension": ".py",
   "mimetype": "text/x-python",
   "name": "python",
   "nbconvert_exporter": "python",
   "pygments_lexer": "ipython3",
   "version": "3.11.5"
  }
 },
 "nbformat": 4,
 "nbformat_minor": 2
}
