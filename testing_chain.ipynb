{
 "cells": [
  {
   "cell_type": "code",
   "execution_count": 1,
   "metadata": {},
   "outputs": [],
   "source": [
    "from pydantic import BaseModel\n",
    "\n",
    "# Define your Pydantic model to structure the output\n",
    "class ExpandedAnswer(BaseModel):\n",
    "    initial_answer: str\n",
    "    detailed_answer: str\n"
   ]
  },
  {
   "cell_type": "code",
   "execution_count": 2,
   "metadata": {},
   "outputs": [],
   "source": [
    "from langchain.prompts import PromptTemplate\n",
    "from langchain_openai import ChatOpenAI\n",
    "\n",
    "# Define the prompt template\n",
    "initial_prompt = PromptTemplate.from_template(\n",
    "    template=\"Given the context: '{context}', what is the answer to the question: '{question}'?\"\n",
    ")\n",
    "\n",
    "# Initialize the LLM\n",
    "# llm = ChatOpenAI(model=\"gpt-4\", temperature=0.7)\n",
    "llm = ChatOpenAI(\n",
    "                model=\"lmstudio-community/Meta-Llama-3.1-8B-Instruct-GGUF\",\n",
    "                base_url=\"http://10.2.125.37:1234/v1\",\n",
    "                api_key=\"lm-studio\"\n",
    "            )\n"
   ]
  },
  {
   "cell_type": "code",
   "execution_count": 3,
   "metadata": {},
   "outputs": [],
   "source": [
    "# Chain using the pipe syntax and structured output with Pydantic\n",
    "chain = initial_prompt | llm.with_structured_output(ExpandedAnswer)"
   ]
  },
  {
   "cell_type": "code",
   "execution_count": 4,
   "metadata": {},
   "outputs": [
    {
     "ename": "AttributeError",
     "evalue": "'NoneType' object has no attribute 'initial_answer'",
     "output_type": "error",
     "traceback": [
      "\u001b[0;31m---------------------------------------------------------------------------\u001b[0m",
      "\u001b[0;31mAttributeError\u001b[0m                            Traceback (most recent call last)",
      "Cell \u001b[0;32mIn[4], line 12\u001b[0m\n\u001b[1;32m      6\u001b[0m response \u001b[38;5;241m=\u001b[39m chain\u001b[38;5;241m.\u001b[39minvoke({\n\u001b[1;32m      7\u001b[0m     \u001b[38;5;124m\"\u001b[39m\u001b[38;5;124mcontext\u001b[39m\u001b[38;5;124m\"\u001b[39m: context,\n\u001b[1;32m      8\u001b[0m     \u001b[38;5;124m\"\u001b[39m\u001b[38;5;124mquestion\u001b[39m\u001b[38;5;124m\"\u001b[39m: question\n\u001b[1;32m      9\u001b[0m })\n\u001b[1;32m     11\u001b[0m \u001b[38;5;66;03m# Access the structured output\u001b[39;00m\n\u001b[0;32m---> 12\u001b[0m \u001b[38;5;28mprint\u001b[39m(\u001b[43mresponse\u001b[49m\u001b[38;5;241;43m.\u001b[39;49m\u001b[43minitial_answer\u001b[49m)\n\u001b[1;32m     13\u001b[0m \u001b[38;5;28mprint\u001b[39m(response\u001b[38;5;241m.\u001b[39mdetailed_answer)\n",
      "\u001b[0;31mAttributeError\u001b[0m: 'NoneType' object has no attribute 'initial_answer'"
     ]
    }
   ],
   "source": [
    "# Define the input data\n",
    "context = \"AI is increasingly being adopted in various industries, including healthcare...\"\n",
    "question = \"What are the key benefits of AI in healthcare?\"\n",
    "\n",
    "# Run the chain with the input data\n",
    "response = chain.invoke({\n",
    "    \"context\": context,\n",
    "    \"question\": question\n",
    "})\n",
    "\n",
    "# Access the structured output\n",
    "print(response.initial_answer)\n",
    "print(response.detailed_answer)"
   ]
  },
  {
   "cell_type": "code",
   "execution_count": 16,
   "metadata": {},
   "outputs": [],
   "source": [
    "from langchain import LLMChain, PromptTemplate\n",
    "from langchain.llms.base import LLM\n",
    "from typing import List, Optional\n",
    "from pydantic import BaseModel, Field\n",
    "import requests\n",
    "\n",
    "class LMStudioLLM(LLM):\n",
    "    base_url: str\n",
    "    model_name: str\n",
    "    api_key: Optional[str] = None\n",
    "\n",
    "    def _call(self, prompt: str, stop: Optional[List[str]] = None) -> ExpandedAnswer:\n",
    "        response = requests.post(\n",
    "            f\"{self.base_url}/v1/chat/completions\",\n",
    "            headers={\"Content-Type\": \"application/json\"},\n",
    "            json={\n",
    "                \"model\": self.model_name,\n",
    "                \"messages\": [\n",
    "                    {\"role\": \"system\", \"content\": \"Always answer in rhymes.\"},\n",
    "                    {\"role\": \"user\", \"content\": prompt}\n",
    "                ],\n",
    "                \"temperature\": 0.7,\n",
    "                \"max_tokens\": 150,\n",
    "                \"stream\": False\n",
    "            }\n",
    "        )\n",
    "        response_json = response.json()\n",
    "        content = response_json['choices'][0]['message']['content']\n",
    "        \n",
    "        # Assuming the response format contains a summary and details separated by a delimiter\n",
    "        parts = content.split(\"\\n\\n\")\n",
    "        if len(parts) == 2:\n",
    "            return ExpandedAnswer(initial_answer=parts[0], detailed_answer=parts[1])\n",
    "        else:\n",
    "            return ExpandedAnswer(initial_answer=content, detailed_answer=\"\")\n",
    "\n",
    "    @property\n",
    "    def _llm_type(self) -> str:\n",
    "        return \"lmstudio\"\n",
    "\n"
   ]
  },
  {
   "cell_type": "code",
   "execution_count": 17,
   "metadata": {},
   "outputs": [
    {
     "name": "stdout",
     "output_type": "stream",
     "text": [
      "Initial Answer: The adoption's on the rise, I must imply,\n",
      "In various fields, including healthcare, it does apply.\n",
      "Detailed Answer: A quick summary: AI's being used to aid,\n",
      "Improving patient care, and making diagnoses not delayed.\n",
      "From diagnosis to treatment, AI is playing a part,\n",
      "Enhancing lives with precision, and a gentle art.\n"
     ]
    }
   ],
   "source": [
    "# Instantiate your custom LLM\n",
    "llm = LMStudioLLM(base_url=\"http://10.2.125.37:1234\", model_name=\"lmstudio-community/Meta-Llama-3.1-8B-Instruct-GGUF\")\n",
    "\n",
    "# Define the input data\n",
    "context = \"AI is increasingly being adopted in various industries, including healthcare...\"\n",
    "question = \"What are the key benefits of AI in healthcare?\"\n",
    "\n",
    "# Combine context and question into a single prompt\n",
    "prompt_text = f\"Given the context: '{context}', what is the quick summary? Now, please provide a detailed explanation for: '{question}'.\"\n",
    "\n",
    "# Get the structured response directly\n",
    "response = llm._call(prompt_text)\n",
    "\n",
    "# Access the structured output\n",
    "print(\"Initial Answer:\", response.initial_answer)\n",
    "print(\"Detailed Answer:\", response.detailed_answer)\n",
    "\n"
   ]
  },
  {
   "cell_type": "code",
   "execution_count": 19,
   "metadata": {},
   "outputs": [],
   "source": [
    "from langchain.prompts import PromptTemplate\n",
    "\n",
    "content_template=\"\"\"# CONTEXT #\n",
    "I want to advertise for my company's duty free product catalogue. The SKU Name of the product is {sku_name}, brand of the product is {brand_name} and its category is : {sub_category}.\n",
    "\n",
    "# OBJECTIVE #\n",
    "Create new product description for the above product based on the following existing description: {description}. Extract all key points and features from the existing description and write a new description from them. The word count should be similar to the original description.\n",
    "\n",
    "# STYLE #\n",
    "The writing style needs focus on the unique aspects of the product - its ingredients, its process, its history. Use descriptive language to evoke sensory experience - taste, smell, touch. Be precise and concise when writing. The content needs to be simple enough for the common man to understand it.\n",
    "Following words are BLACKLISTED from appearing in the response: 'transformative','tapestry','like',';','-'.\n",
    "REPLACE the following words with a more descriptive and specific response: 'foster','fostering','all about','is about','think of','like','but also'.\n",
    "\n",
    "# TONE #\n",
    "Simple, clear and elegant.\n",
    "\n",
    "# AUDIENCE #\n",
    "My company's audience profile is the common man who likes to indulge in the finer things in life every once in a while.\n",
    "\"\"\"\n",
    "content_prompt=PromptTemplate(input_variables=[\"sku_name\",\"brand_name\",\"sub_category\",\"description\"],template=content_template)"
   ]
  },
  {
   "cell_type": "code",
   "execution_count": 20,
   "metadata": {},
   "outputs": [],
   "source": [
    "llm = ChatOpenAI(\n",
    "                model=\"lmstudio-community/Meta-Llama-3.1-8B-Instruct-GGUF\",\n",
    "                base_url=\"http://10.2.125.37:1234/v1\",\n",
    "                api_key=\"lm-studio\"\n",
    "            )"
   ]
  },
  {
   "cell_type": "code",
   "execution_count": 21,
   "metadata": {},
   "outputs": [],
   "source": [
    "from langchain.output_parsers import PydanticOutputParser\n",
    "from langchain.prompts import PromptTemplate\n",
    "from langchain_core.pydantic_v1 import BaseModel, Field, validator\n",
    "\n",
    "class Product(BaseModel):\n",
    "    product_description : str = Field(description=\"The generated product description\")\n",
    "\n",
    "parser= PydanticOutputParser(pydantic_object=Product)\n",
    "\n",
    "content_template=\"\"\"# CONTEXT #\n",
    "I want to advertise for my company's duty free product catalogue. The SKU Name of the product is {sku_name}, brand of the product is {brand_name} and its category is : {sub_category}.\n",
    "\n",
    "# OBJECTIVE #\n",
    "Create new product description for the above product based on the following existing description: {description}. Extract all key points and features from the existing description and write a new description from them. The word count should be similar to the original description.\n",
    "\n",
    "# STYLE #\n",
    "The writing style needs focus on the unique aspects of the product - its ingredients, its process, its history. Use descriptive language to evoke sensory experience - taste, smell, touch. Be precise and concise when writing. The content needs to be simple enough for the common man to understand it.\n",
    "Following words are BLACKLISTED from appearing in the response: 'transformative','tapestry','like',';','-'.\n",
    "REPLACE the following words with a more descriptive and specific response: 'foster','fostering','all about','is about','think of','like','but also'.\n",
    "\n",
    "# TONE #\n",
    "Simple, clear and elegant.\n",
    "\n",
    "# AUDIENCE #\n",
    "My company's audience profile is the common man who likes to indulge in the finer things in life every once in a while.\n",
    "\n",
    "# RESPONSE #\n",
    "{format_instructions}\n",
    "\"\"\"\n",
    "\n",
    "content_prompt=PromptTemplate(input_variables=[\"sku_name\",\"brand_name\",\"sub_category\",\"description\"],template=content_template,partial_variables={\"format_instructions\":parser.get_format_instructions()})"
   ]
  },
  {
   "cell_type": "code",
   "execution_count": 1,
   "metadata": {},
   "outputs": [
    {
     "name": "stdout",
     "output_type": "stream",
     "text": [
      "(\"Chloé's Atelier des Fleurs Magnolia Alba Eau de Parfum 150ml is a unique and \"\n",
      " 'exclusive fragrance that captures the essence of spring. The scent features '\n",
      " 'smooth, plump notes of magnolia blossoms, complemented by subtle lemony '\n",
      " 'undertones. This exquisite perfume is crafted with precision and care to '\n",
      " 'evoke a sensory experience that is both elegant and refined.')\n"
     ]
    }
   ],
   "source": [
    "from langchain_openai import ChatOpenAI\n",
    "from langchain.prompts import PromptTemplate\n",
    "from langchain.output_parsers import PydanticOutputParser\n",
    "from langchain_core.pydantic_v1 import BaseModel, Field\n",
    "from langchain.output_parsers import OutputFixingParser\n",
    "\n",
    "llm = ChatOpenAI(\n",
    "                model=\"lmstudio-community/Meta-Llama-3.1-8B-Instruct-GGUF\",\n",
    "                base_url=\"http://10.2.125.37:1234/v1\",\n",
    "                api_key=\"lm-studio\"\n",
    "            )\n",
    "\n",
    "class Product(BaseModel):\n",
    "    product_description : str = Field(description=\"The generated product description\")\n",
    "\n",
    "content_template=\"\"\"# CONTEXT #\n",
    "I want to advertise for my company's duty free product catalogue. The SKU Name of the product is {sku_name}, brand of the product is {brand_name} and its category is : {sub_category}.\n",
    "\n",
    "# OBJECTIVE #\n",
    "Create new product description for the above product based on the following existing description: {description}. Extract all key points and features from the existing description and write a new description from them. The word count should be similar to the original description.\n",
    "\n",
    "# STYLE #\n",
    "The writing style needs focus on the unique aspects of the product - its ingredients, its process, its history. Use descriptive language to evoke sensory experience - taste, smell, touch. Be precise and concise when writing. The content needs to be simple enough for the common man to understand it.\n",
    "Following words are BLACKLISTED from appearing in the response: 'transformative','tapestry','like',';','-'.\n",
    "REPLACE the following words with a more descriptive and specific response: 'foster','fostering','all about','is about','think of','like','but also'.\n",
    "\n",
    "# TONE #\n",
    "Simple, clear and elegant.\n",
    "\n",
    "# AUDIENCE #\n",
    "My company's audience profile is the common man who likes to indulge in the finer things in life every once in a while.\n",
    "\n",
    "{format_instructions}\n",
    "\"\"\"\n",
    "\n",
    "parser= PydanticOutputParser(pydantic_object=Product)\n",
    "output_fixing_parser=OutputFixingParser(parser=parser,llm=llm)\n",
    "content_prompt=PromptTemplate(input_variables=[\"sku_name\",\"brand_name\",\"sub_category\",\"description\"],template=content_template,partial_variables={\"format_instructions\":parser.get_format_instructions()})\n",
    "content_runnable = content_prompt | llm  | output_fixing_parser\n",
    "\n",
    "\n",
    "\n",
    "import pprint\n",
    "user_input={\n",
    "\"brand_name\":\"Chloe\",\n",
    "\"sku_name\":\"CHLOÉ Atelier des Fleurs Magnolia Alba Eau de Parfum 150ml\",\n",
    "\"sub_category\":\"Perfumes\",\n",
    "\"description\":\"The House of Chloé unveils a collection of nine exclusive Eau de Parfum fragrances for woman: Atelier des Fleurs.\\nMagnolia Alba transcribes the smooth, plump and slightly lemony notes of magnolia blossoms in spring.\"\n",
    "}\n",
    "\n",
    "result=content_runnable.invoke(user_input)\n",
    "pprint.pprint(result.product_description)"
   ]
  },
  {
   "cell_type": "code",
   "execution_count": 28,
   "metadata": {},
   "outputs": [
    {
     "data": {
      "text/plain": [
       "PromptTemplate(input_variables=['brand_name', 'description', 'sku_name', 'sub_category'], partial_variables={'format_instructions': 'The output should be formatted as a JSON instance that conforms to the JSON schema below.\\n\\nAs an example, for the schema {\"properties\": {\"foo\": {\"title\": \"Foo\", \"description\": \"a list of strings\", \"type\": \"array\", \"items\": {\"type\": \"string\"}}}, \"required\": [\"foo\"]}\\nthe object {\"foo\": [\"bar\", \"baz\"]} is a well-formatted instance of the schema. The object {\"properties\": {\"foo\": [\"bar\", \"baz\"]}} is not well-formatted.\\n\\nHere is the output schema:\\n```\\n{\"properties\": {\"product_description\": {\"title\": \"Product Description\", \"description\": \"The generated product description\", \"type\": \"string\"}}, \"required\": [\"product_description\"]}\\n```'}, template=\"# CONTEXT #\\nI want to advertise for my company's duty free product catalogue. The SKU Name of the product is {sku_name}, brand of the product is {brand_name} and its category is : {sub_category}.\\n\\n# OBJECTIVE #\\nCreate new product description for the above product based on the following existing description: {description}. Extract all key points and features from the existing description and write a new description from them. The word count should be similar to the original description.\\n\\n# STYLE #\\nThe writing style needs focus on the unique aspects of the product - its ingredients, its process, its history. Use descriptive language to evoke sensory experience - taste, smell, touch. Be precise and concise when writing. The content needs to be simple enough for the common man to understand it.\\nFollowing words are BLACKLISTED from appearing in the response: 'transformative','tapestry','like',';','-'.\\nREPLACE the following words with a more descriptive and specific response: 'foster','fostering','all about','is about','think of','like','but also'.\\n\\n# TONE #\\nSimple, clear and elegant.\\n\\n# AUDIENCE #\\nMy company's audience profile is the common man who likes to indulge in the finer things in life every once in a while.\\n\\n{format_instructions}\\n\")"
      ]
     },
     "execution_count": 28,
     "metadata": {},
     "output_type": "execute_result"
    }
   ],
   "source": [
    "content_prompt"
   ]
  },
  {
   "cell_type": "code",
   "execution_count": 27,
   "metadata": {},
   "outputs": [
    {
     "data": {
      "text/plain": [
       "PromptTemplate(input_variables=['brand_name', 'description', 'sku_name', 'sub_category'], partial_variables={'format_instructions': 'The output should be formatted as a JSON instance that conforms to the JSON schema below.\\n\\nAs an example, for the schema {\"properties\": {\"foo\": {\"title\": \"Foo\", \"description\": \"a list of strings\", \"type\": \"array\", \"items\": {\"type\": \"string\"}}}, \"required\": [\"foo\"]}\\nthe object {\"foo\": [\"bar\", \"baz\"]} is a well-formatted instance of the schema. The object {\"properties\": {\"foo\": [\"bar\", \"baz\"]}} is not well-formatted.\\n\\nHere is the output schema:\\n```\\n{\"properties\": {\"product_description\": {\"title\": \"Product Description\", \"description\": \"The generated product description\", \"type\": \"string\"}}, \"required\": [\"product_description\"]}\\n```'}, template=\"# CONTEXT #\\nI want to advertise for my company's duty free product catalogue. The SKU Name of the product is {sku_name}, brand of the product is {brand_name} and its category is : {sub_category}.\\n\\n# OBJECTIVE #\\nCreate new product description for the above product based on the following existing description: {description}. Extract all key points and features from the existing description and write a new description from them. The word count should be similar to the original description.\\n\\n# STYLE #\\nThe writing style needs focus on the unique aspects of the product - its ingredients, its process, its history. Use descriptive language to evoke sensory experience - taste, smell, touch. Be precise and concise when writing. The content needs to be simple enough for the common man to understand it.\\nFollowing words are BLACKLISTED from appearing in the response: 'transformative','tapestry','like',';','-'.\\nREPLACE the following words with a more descriptive and specific response: 'foster','fostering','all about','is about','think of','like','but also'.\\n\\n# TONE #\\nSimple, clear and elegant.\\n\\n# AUDIENCE #\\nMy company's audience profile is the common man who likes to indulge in the finer things in life every once in a while.\\n\\n{format_instructions}\\n\")\n",
       "| ChatOpenAI(client=<openai.resources.chat.completions.Completions object at 0x7a9cc05bdad0>, async_client=<openai.resources.chat.completions.AsyncCompletions object at 0x7a9cc05a4d90>, root_client=<openai.OpenAI object at 0x7a9cc05c1610>, root_async_client=<openai.AsyncOpenAI object at 0x7a9cc05bdc90>, model_name='lmstudio-community/Meta-Llama-3.1-8B-Instruct-GGUF', openai_api_key=SecretStr('**********'), openai_api_base='http://10.2.125.37:1234/v1', openai_proxy='')\n",
       "| OutputFixingParser(parser=PydanticOutputParser(pydantic_object=<class '__main__.Product'>))"
      ]
     },
     "execution_count": 27,
     "metadata": {},
     "output_type": "execute_result"
    }
   ],
   "source": [
    "content_runnable"
   ]
  },
  {
   "cell_type": "code",
   "execution_count": 26,
   "metadata": {},
   "outputs": [
    {
     "name": "stdout",
     "output_type": "stream",
     "text": [
      "('Discover the essence of spring with CHLOÉ Atelier des Fleurs Magnolia Alba '\n",
      " 'Eau de Parfum 150ml. This exquisite fragrance transcribes the smooth, plump '\n",
      " 'notes of magnolia blossoms in bloom, infused with a subtle lemony nuance. '\n",
      " 'The House of Chloé presents this exclusive collection of nine Eau de Parfum '\n",
      " \"fragrances for women, each capturing the essence of nature's beauty.\")\n"
     ]
    }
   ],
   "source": [
    "import pprint\n",
    "user_input={\n",
    "\"brand_name\":\"Chloe\",\n",
    "\"sku_name\":\"CHLOÉ Atelier des Fleurs Magnolia Alba Eau de Parfum 150ml\",\n",
    "\"sub_category\":\"Perfumes\",\n",
    "\"description\":\"The House of Chloé unveils a collection of nine exclusive Eau de Parfum fragrances for woman: Atelier des Fleurs.\\nMagnolia Alba transcribes the smooth, plump and slightly lemony notes of magnolia blossoms in spring.\"\n",
    "}\n",
    "\n",
    "result=content_runnable.invoke(user_input)\n",
    "pprint.pprint(result.product_description)"
   ]
  },
  {
   "cell_type": "code",
   "execution_count": 7,
   "metadata": {},
   "outputs": [
    {
     "name": "stdout",
     "output_type": "stream",
     "text": [
      "Raw API response: {'id': 'chatcmpl-s4lbqf4srfqeurdmd9w19', 'object': 'chat.completion', 'created': 1725282587, 'model': 'lmstudio-community/Meta-Llama-3.1-8B-Instruct-GGUF/Meta-Llama-3.1-8B-Instruct-Q8_0.gguf', 'choices': [{'index': 0, 'message': {'role': 'assistant', 'content': \"In healthcare, AI's the way,\\nTo improve care and seize the day.\\nIt brings several benefits, don't you know?\\nAccurate diagnoses, with data to show.\\n\\nPersonalized medicine, it can provide,\\nTailored treatments, side effects to divide.\\nPredictive analytics, a powerful tool,\\nHelping prevent diseases, like a magic rule.\\n\\nStreamlined workflows, AI takes a bite,\\nReducing errors and making things right.\\nClinical decision support, always on hand,\\nGuiding doctors with expert commands.\\n\\nData analysis, in real-time too,\\nIdentifying trends, and patterns anew.\\nThe key benefits of AI in healthcare are clear,\\nImproving patient care, without a speck of fear!\"}, 'finish_reason': 'stop'}], 'usage': {'prompt_tokens': 31, 'completion_tokens': 140, 'total_tokens': 171}}\n"
     ]
    }
   ],
   "source": [
    "import requests\n",
    "\n",
    "# Set up the request to match the curl command\n",
    "response = requests.post(\n",
    "    \"http://10.2.125.37:1234/v1/chat/completions\",\n",
    "    headers={\"Content-Type\": \"application/json\"},\n",
    "    json={\n",
    "        \"model\": \"lmstudio-community/Meta-Llama-3.1-8B-Instruct-GGUF\",\n",
    "        \"messages\": [\n",
    "            {\"role\": \"system\", \"content\": \"Always answer in rhymes.\"},\n",
    "            {\"role\": \"user\", \"content\": \"What are the key benefits of AI in healthcare?\"}\n",
    "        ],\n",
    "        \"temperature\": 0.7,\n",
    "        \"max_tokens\": 150,\n",
    "        \"stream\": False  # Set to True if you want to stream responses, False otherwise\n",
    "    }\n",
    ")\n",
    "\n",
    "# Print the raw response\n",
    "print(\"Raw API response:\", response.json())\n"
   ]
  }
 ],
 "metadata": {
  "kernelspec": {
   "display_name": "venv",
   "language": "python",
   "name": "python3"
  },
  "language_info": {
   "codemirror_mode": {
    "name": "ipython",
    "version": 3
   },
   "file_extension": ".py",
   "mimetype": "text/x-python",
   "name": "python",
   "nbconvert_exporter": "python",
   "pygments_lexer": "ipython3",
   "version": "3.11.5"
  }
 },
 "nbformat": 4,
 "nbformat_minor": 2
}
