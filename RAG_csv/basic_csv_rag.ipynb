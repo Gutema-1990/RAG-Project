{
 "cells": [
  {
   "cell_type": "code",
   "execution_count": 1,
   "metadata": {},
   "outputs": [],
   "source": [
    "from langchain_community.document_loaders.csv_loader import CSVLoader\n",
    "from pathlib import Path\n",
    "from langchain_openai import ChatOpenAI,OpenAIEmbeddings\n",
    "import os\n",
    "from dotenv import load_dotenv\n",
    "\n",
    "# Load environment variables from a .env file\n",
    "load_dotenv()\n",
    "csv_path = os.getenv(\"csv_path\")\n",
    "api_key = os.getenv(\"NOMIC_API_KEY\")\n",
    "url = os.getenv(\"base_url\")\n",
    "doc_path = os.getenv(\"doc_path\")\n",
    "# Set the OpenAI API key environment variable\n",
    "# os.environ[\"OPENAI_API_KEY\"] = os.getenv('OPENAI_API_KEY')\n",
    "\n",
    "# llm = ChatOpenAI(model=\"gpt-3.5-turbo-0125\")"
   ]
  },
  {
   "cell_type": "code",
   "execution_count": 2,
   "metadata": {},
   "outputs": [
    {
     "data": {
      "text/html": [
       "<div>\n",
       "<style scoped>\n",
       "    .dataframe tbody tr th:only-of-type {\n",
       "        vertical-align: middle;\n",
       "    }\n",
       "\n",
       "    .dataframe tbody tr th {\n",
       "        vertical-align: top;\n",
       "    }\n",
       "\n",
       "    .dataframe thead th {\n",
       "        text-align: right;\n",
       "    }\n",
       "</style>\n",
       "<table border=\"1\" class=\"dataframe\">\n",
       "  <thead>\n",
       "    <tr style=\"text-align: right;\">\n",
       "      <th></th>\n",
       "      <th>Index</th>\n",
       "      <th>Customer Id</th>\n",
       "      <th>First Name</th>\n",
       "      <th>Last Name</th>\n",
       "      <th>Company</th>\n",
       "      <th>City</th>\n",
       "      <th>Country</th>\n",
       "      <th>Phone 1</th>\n",
       "      <th>Phone 2</th>\n",
       "      <th>Email</th>\n",
       "      <th>Subscription Date</th>\n",
       "      <th>Website</th>\n",
       "    </tr>\n",
       "  </thead>\n",
       "  <tbody>\n",
       "    <tr>\n",
       "      <th>0</th>\n",
       "      <td>1</td>\n",
       "      <td>DD37Cf93aecA6Dc</td>\n",
       "      <td>Sheryl</td>\n",
       "      <td>Baxter</td>\n",
       "      <td>Rasmussen Group</td>\n",
       "      <td>East Leonard</td>\n",
       "      <td>Chile</td>\n",
       "      <td>229.077.5154</td>\n",
       "      <td>397.884.0519x718</td>\n",
       "      <td>zunigavanessa@smith.info</td>\n",
       "      <td>2020-08-24</td>\n",
       "      <td>http://www.stephenson.com/</td>\n",
       "    </tr>\n",
       "    <tr>\n",
       "      <th>1</th>\n",
       "      <td>2</td>\n",
       "      <td>1Ef7b82A4CAAD10</td>\n",
       "      <td>Preston</td>\n",
       "      <td>Lozano</td>\n",
       "      <td>Vega-Gentry</td>\n",
       "      <td>East Jimmychester</td>\n",
       "      <td>Djibouti</td>\n",
       "      <td>5153435776</td>\n",
       "      <td>686-620-1820x944</td>\n",
       "      <td>vmata@colon.com</td>\n",
       "      <td>2021-04-23</td>\n",
       "      <td>http://www.hobbs.com/</td>\n",
       "    </tr>\n",
       "    <tr>\n",
       "      <th>2</th>\n",
       "      <td>3</td>\n",
       "      <td>6F94879bDAfE5a6</td>\n",
       "      <td>Roy</td>\n",
       "      <td>Berry</td>\n",
       "      <td>Murillo-Perry</td>\n",
       "      <td>Isabelborough</td>\n",
       "      <td>Antigua and Barbuda</td>\n",
       "      <td>+1-539-402-0259</td>\n",
       "      <td>(496)978-3969x58947</td>\n",
       "      <td>beckycarr@hogan.com</td>\n",
       "      <td>2020-03-25</td>\n",
       "      <td>http://www.lawrence.com/</td>\n",
       "    </tr>\n",
       "    <tr>\n",
       "      <th>3</th>\n",
       "      <td>4</td>\n",
       "      <td>5Cef8BFA16c5e3c</td>\n",
       "      <td>Linda</td>\n",
       "      <td>Olsen</td>\n",
       "      <td>Dominguez, Mcmillan and Donovan</td>\n",
       "      <td>Bensonview</td>\n",
       "      <td>Dominican Republic</td>\n",
       "      <td>001-808-617-6467x12895</td>\n",
       "      <td>+1-813-324-8756</td>\n",
       "      <td>stanleyblackwell@benson.org</td>\n",
       "      <td>2020-06-02</td>\n",
       "      <td>http://www.good-lyons.com/</td>\n",
       "    </tr>\n",
       "    <tr>\n",
       "      <th>4</th>\n",
       "      <td>5</td>\n",
       "      <td>053d585Ab6b3159</td>\n",
       "      <td>Joanna</td>\n",
       "      <td>Bender</td>\n",
       "      <td>Martin, Lang and Andrade</td>\n",
       "      <td>West Priscilla</td>\n",
       "      <td>Slovakia (Slovak Republic)</td>\n",
       "      <td>001-234-203-0635x76146</td>\n",
       "      <td>001-199-446-3860x3486</td>\n",
       "      <td>colinalvarado@miles.net</td>\n",
       "      <td>2021-04-17</td>\n",
       "      <td>https://goodwin-ingram.com/</td>\n",
       "    </tr>\n",
       "  </tbody>\n",
       "</table>\n",
       "</div>"
      ],
      "text/plain": [
       "   Index      Customer Id First Name Last Name  \\\n",
       "0      1  DD37Cf93aecA6Dc     Sheryl    Baxter   \n",
       "1      2  1Ef7b82A4CAAD10    Preston    Lozano   \n",
       "2      3  6F94879bDAfE5a6        Roy     Berry   \n",
       "3      4  5Cef8BFA16c5e3c      Linda     Olsen   \n",
       "4      5  053d585Ab6b3159     Joanna    Bender   \n",
       "\n",
       "                           Company               City  \\\n",
       "0                  Rasmussen Group       East Leonard   \n",
       "1                      Vega-Gentry  East Jimmychester   \n",
       "2                    Murillo-Perry      Isabelborough   \n",
       "3  Dominguez, Mcmillan and Donovan         Bensonview   \n",
       "4         Martin, Lang and Andrade     West Priscilla   \n",
       "\n",
       "                      Country                 Phone 1                Phone 2  \\\n",
       "0                       Chile            229.077.5154       397.884.0519x718   \n",
       "1                    Djibouti              5153435776       686-620-1820x944   \n",
       "2         Antigua and Barbuda         +1-539-402-0259    (496)978-3969x58947   \n",
       "3          Dominican Republic  001-808-617-6467x12895        +1-813-324-8756   \n",
       "4  Slovakia (Slovak Republic)  001-234-203-0635x76146  001-199-446-3860x3486   \n",
       "\n",
       "                         Email Subscription Date                      Website  \n",
       "0     zunigavanessa@smith.info        2020-08-24   http://www.stephenson.com/  \n",
       "1              vmata@colon.com        2021-04-23        http://www.hobbs.com/  \n",
       "2          beckycarr@hogan.com        2020-03-25     http://www.lawrence.com/  \n",
       "3  stanleyblackwell@benson.org        2020-06-02   http://www.good-lyons.com/  \n",
       "4      colinalvarado@miles.net        2021-04-17  https://goodwin-ingram.com/  "
      ]
     },
     "execution_count": 2,
     "metadata": {},
     "output_type": "execute_result"
    }
   ],
   "source": [
    "import pandas as pd\n",
    "\n",
    "data = pd.read_csv(csv_path)\n",
    "\n",
    "#preview the csv file\n",
    "data.head()"
   ]
  },
  {
   "cell_type": "code",
   "execution_count": 3,
   "metadata": {},
   "outputs": [],
   "source": [
    "loader = CSVLoader(file_path=csv_path)\n",
    "docs = loader.load_and_split()"
   ]
  },
  {
   "cell_type": "code",
   "execution_count": 4,
   "metadata": {},
   "outputs": [],
   "source": [
    "import faiss\n",
    "from langchain_community.docstore.in_memory import InMemoryDocstore\n",
    "from langchain_community.vectorstores import FAISS\n",
    "from langchain_nomic import NomicEmbeddings\n",
    "\n",
    "embeddings =  NomicEmbeddings(model=\"nomic-embed-text-v1.5\",)\n",
    "index = faiss.IndexFlatL2(len(embeddings.embed_query(\" \")))\n",
    "vector_store = FAISS(\n",
    "    embedding_function=embeddings,\n",
    "    index=index,\n",
    "    docstore=InMemoryDocstore(),\n",
    "    index_to_docstore_id={}\n",
    ")"
   ]
  },
  {
   "cell_type": "code",
   "execution_count": 5,
   "metadata": {},
   "outputs": [
    {
     "data": {
      "text/plain": [
       "['49d10f56-d6e2-4c78-9f54-7babb4c233ae',\n",
       " '0c372c1d-4ab7-49d8-88e1-fa9583ec730d',\n",
       " '1e4d61cb-e27b-410c-9b46-bc5d4ebd45f8',\n",
       " '0f87f369-8691-4d78-bfd5-a2cbc5d0fd27',\n",
       " 'e5b135b3-e542-477a-adf3-05d9e980310a',\n",
       " 'd663e81a-9e1f-425a-bff4-8b8ae07ee857',\n",
       " '8c0b85a8-727b-466e-89b6-9ac09164b26f',\n",
       " '87634b7c-802b-4185-86b9-9228f02ad8f5',\n",
       " '7c43f78a-cb5b-4551-ae63-6b8e1e79de9f',\n",
       " 'a686b3d5-f94f-40a1-b173-1eb7732b4418',\n",
       " '1498da55-a528-47ff-bcd0-81bd8485cfc4',\n",
       " '54cb2b11-1d68-4838-8dc6-afcf6c59919f',\n",
       " '6173d0ad-c9c7-40d9-9eea-88946761c7df',\n",
       " 'd917d4f4-25b7-4ad2-b86a-fdf887791627',\n",
       " '1d32ab8e-a804-4135-ab88-7327797a445a',\n",
       " '95ef27cd-9f46-458b-99d2-d4d052c69bba',\n",
       " '5f354b51-4ad0-48df-89d9-fdca97b97550',\n",
       " '2f11a3df-c685-43f3-8092-7df60c5337a8',\n",
       " '6cdac0d9-313f-4b70-8dfe-0fc267c509b4',\n",
       " 'bfc87a11-d6ed-4788-8b0c-e4d3b90cb8e1',\n",
       " '22e73c02-a817-4461-b14d-d2665e9f05e9',\n",
       " '5472f2fb-9605-41cd-b902-5b3cde2011d9',\n",
       " '7f54ea30-71cb-4c4a-afe3-fd69dbcbe863',\n",
       " '92fb45a8-f778-4e87-a10e-cf848e0479f5',\n",
       " '655b5bb9-7282-435b-b2be-63954b2cbf83',\n",
       " '4590b6c2-51f5-44a6-b85a-076d9338aaeb',\n",
       " '1c93e1af-4814-4a57-9544-5fb579e3e311',\n",
       " 'b309722f-4168-443f-9ccc-d0f326611015',\n",
       " '5ef4ddfc-4b00-486b-847a-a918ea25de4f',\n",
       " 'd073429e-61b8-496d-945b-8b3e3c8be454',\n",
       " '0fa74367-7248-41e6-a605-6a2f408bae12',\n",
       " 'b4733a12-c62a-4241-b081-c83aa04fed1a',\n",
       " '9ff5eeea-5ea6-4023-a64d-6403f3279d24',\n",
       " 'fe5c73ff-efde-4f83-bd2c-253e2857911a',\n",
       " '468e5878-8cb1-4463-a0b4-af78d0e3751d',\n",
       " '21f4c35f-dd71-42f2-989e-cd2768eb8aeb',\n",
       " 'ca439de2-d981-4dee-9915-d1276046d791',\n",
       " '2bcc7906-c158-4a27-9020-e9af0ff9dd06',\n",
       " 'c2ef7fd9-0711-4f2a-b721-82b23020443e',\n",
       " '50ccdcaa-2a05-4892-8bd0-3ab9a9ee4bb5',\n",
       " 'afb5f6dc-2871-4a82-b8e9-1b75171555bb',\n",
       " 'cf55959b-2d64-404a-b4cc-91b72a5d503e',\n",
       " 'b0c6cfb4-3f32-4723-9582-19caf3383d61',\n",
       " '9ddd5cf7-0ed3-4457-8a1f-5944f5bfe3ae',\n",
       " 'c332ac0e-37db-4252-86bd-3c479797849b',\n",
       " '851f1faf-992b-425c-99ee-29de640d2445',\n",
       " '8bf2fded-2d41-4bbf-b9c5-5f7d5297421a',\n",
       " 'e4a0c768-b363-4e96-8659-aa901ca1f4b7',\n",
       " '71a80412-ab16-4ce3-80d2-0d9675adbfe6',\n",
       " 'd3f1d4d8-0a05-4292-a3a9-800b84f8af67',\n",
       " 'cec99554-808c-4330-a4f5-d5b64da6d6c7',\n",
       " '567cb447-712e-4ce7-b824-b50b39537ec5',\n",
       " '4f3f1696-9416-4a60-9142-ccf4f9c0e07f',\n",
       " '90eea291-672f-4567-9394-64bcd4aad2f5',\n",
       " '2d50579c-9fc0-4bd3-bde6-15e719f2d782',\n",
       " '21f90ce5-eeac-4fb7-b699-3de33660a777',\n",
       " '88e89196-e344-4502-8f72-17c1e148c257',\n",
       " '9e8f0735-7b1f-450b-a4a3-ab26ed71ebc9',\n",
       " 'aa462062-46f2-48c6-b7ba-1a68d91754e4',\n",
       " 'df118e11-0a94-4c9a-bacc-2d677a1af0dc',\n",
       " '341fa451-b834-42ca-9f55-11f6a357d070',\n",
       " '2f78f416-49a9-435e-b46e-f5f463aedc0b',\n",
       " '96e0c804-2666-41f4-9c30-529fe6c7521e',\n",
       " 'c2c24891-a2ad-47ca-ba25-139e00959660',\n",
       " '9cba03ab-6452-4f84-9d91-49246be5d563',\n",
       " 'c8407e61-2e14-405c-b49d-204800464079',\n",
       " '9b2b027a-d87e-464c-b6b6-de4188bb385e',\n",
       " '3f1c00bd-3711-41a4-bef4-e8743f36e032',\n",
       " 'e2bd9d75-a0c4-4ae9-8b32-3286bcde4e87',\n",
       " 'afdd825a-1703-49bf-93b6-3e46075d27ae',\n",
       " 'a68eaa49-5d38-4e6a-abad-f908ded6b94a',\n",
       " '6fa9fc7b-703f-4c96-8709-c85aa12b0544',\n",
       " 'de02bfbf-db68-4563-9cf3-9aff3e275f8b',\n",
       " '0ca17c7d-485a-44f1-bab6-2d8d09976d31',\n",
       " 'fa1266e6-034c-43fd-b55f-8f6949ed1dc2',\n",
       " '81fdcf04-9606-4e02-8459-d504ca55d0d1',\n",
       " '8fdcde79-3cea-4c0d-910b-11ee7a265f76',\n",
       " 'affad82b-86d1-4ec8-8563-e1de0109d919',\n",
       " '6332b158-54b7-4f3d-9477-db145d016551',\n",
       " 'dfa6cde3-1ff4-476c-a53f-060c116a0dae',\n",
       " '03deb70f-89bc-4e5e-88f2-4be6ded40ae1',\n",
       " '7e6286a3-c136-48b2-bdbe-94094c789e99',\n",
       " '2e1d8d52-c199-4ca5-8f9a-e51f86cb7de2',\n",
       " '745a6cd3-3608-41a2-bf95-7495b0bcca4e',\n",
       " '23c9eda8-5a02-40b3-ae44-7288f333a610',\n",
       " '52f1ff4c-29e8-41e0-bccf-3c5660fba97c',\n",
       " 'bef09c82-b5cd-4322-9971-a7aff2deec3c',\n",
       " '70619cc9-39bb-46cb-b6bd-9de214d644ad',\n",
       " '5df45d7e-be66-4d4d-a7ff-36a1440ebf58',\n",
       " 'a18c8bd3-aa3b-4ae1-8c00-7d84b319c218',\n",
       " '517872b6-d978-4cf1-9c4c-1edd43693345',\n",
       " '5ab70679-86ef-41c2-a4be-d5e18e355b32',\n",
       " 'adfc360c-0ce3-4d8d-bedf-65448ca7dd1d',\n",
       " 'e94d210d-3c4c-4ec1-90c7-93f7084c9206',\n",
       " 'a7639ac4-35e7-429a-b6d4-24d5fa3e2740',\n",
       " 'b9bed855-3684-4651-882c-80f415e02f49',\n",
       " 'f0a2760d-dc7d-4dd0-a57c-5b8370b79f9e',\n",
       " '016521e8-742f-4353-a4fe-b9d4437dbcf5',\n",
       " 'e2a039f6-ead9-4221-b339-b8c5d7f08e02',\n",
       " '36542d86-47f5-4a9a-9ce4-5130214cef26']"
      ]
     },
     "execution_count": 5,
     "metadata": {},
     "output_type": "execute_result"
    }
   ],
   "source": [
    "vector_store.add_documents(documents=docs)"
   ]
  },
  {
   "cell_type": "code",
   "execution_count": null,
   "metadata": {},
   "outputs": [],
   "source": [
    "from langchain_core.prompts import ChatPromptTemplate\n",
    "from langchain.chains import create_retrieval_chain\n",
    "from langchain.chains.combine_documents import create_stuff_documents_chain\n",
    "\n",
    "retriever = vector_store.as_retriever()\n",
    "llm = ChatOpenAI(\n",
    "                # model=\"bartowski/Llama-3.2-3B-Instruct-GGU\",\n",
    "                model = \"lmstudio-community/Meta-Llama-3.1-8B-Instruct-GGUF\",\n",
    "                base_url=url,\n",
    "                api_key=\"lm-studio\"\n",
    "            )\n",
    "# Set up system prompt\n",
    "system_prompt = (\n",
    "    \"You are an assistant for question-answering tasks. specifically for csv files.\"\n",
    "    \"you are going to over look the columns of the csv file and answer the question\"\n",
    "    \"Use the following pieces of retrieved context to answer \"\n",
    "    \"when you asked for sum of something please go through the columns and sum the values\"\n",
    "    \"when you asked some question please try to answer the question only. for example if you asked for number please answer with the number\"\n",
    "    \"the question. If you don't know the answer, say that you \"\n",
    "    \"\"\n",
    "    \"don't know. Use three sentences maximum and keep the \"\n",
    "    \"answer concise.\"\n",
    "    \"\\n\\n\"\n",
    "    \"{context}\"\n",
    ")\n",
    "\n",
    "prompt = ChatPromptTemplate.from_messages([\n",
    "    (\"system\", system_prompt),\n",
    "    (\"human\", \"{input}\"),\n",
    "    \n",
    "])\n",
    "\n",
    "# Create the question-answer chain\n",
    "question_answer_chain = create_stuff_documents_chain(llm, prompt)\n",
    "rag_chain = create_retrieval_chain(retriever, question_answer_chain)"
   ]
  },
  {
   "cell_type": "code",
   "execution_count": 31,
   "metadata": {},
   "outputs": [
    {
     "data": {
      "text/plain": [
       "'Colleen Howard works for Greer and Sons.'"
      ]
     },
     "execution_count": 31,
     "metadata": {},
     "output_type": "execute_result"
    }
   ],
   "source": [
    "answer= rag_chain.invoke({\"input\": \"which company does Colleen Howardr work for?, \"})\n",
    "answer['answer']"
   ]
  },
  {
   "cell_type": "code",
   "execution_count": 15,
   "metadata": {},
   "outputs": [
    {
     "data": {
      "text/plain": [
       "\"Colleen Howard's Subscription Date is 2020-08-19.\""
      ]
     },
     "execution_count": 15,
     "metadata": {},
     "output_type": "execute_result"
    }
   ],
   "source": [
    "# Sheryl\n",
    "answer= rag_chain.invoke({\"input\": \"what is  subscription date  Colleen Howardr?\"})\n",
    "answer['answer']"
   ]
  },
  {
   "cell_type": "code",
   "execution_count": 37,
   "metadata": {},
   "outputs": [
    {
     "data": {
      "text/plain": [
       "'The row numbers are:\\n\\n* Index: 57, 40, 42, 23 (assuming the first line is row 1)\\n\\nThe column numbers are not explicitly mentioned, but based on the data, we can identify some columns:\\n\\n* Customer Id ( appears in every row)\\n* First Name\\n* Last Name\\n* Company\\n* City\\n* Country\\n* Phone 1 and Phone 2 (separate columns for each phone number)\\n* Email\\n* Subscription Date\\n* Website\\n\\nPlease note that the exact column numbers are not provided, but I can help you with calculations or questions about specific data if needed.'"
      ]
     },
     "execution_count": 37,
     "metadata": {},
     "output_type": "execute_result"
    }
   ],
   "source": [
    "answer= rag_chain.invoke({\"input\": \"what is rows and column numbers of file provided\"})\n",
    "answer['answer']"
   ]
  },
  {
   "cell_type": "code",
   "execution_count": 23,
   "metadata": {},
   "outputs": [
    {
     "name": "stdout",
     "output_type": "stream",
     "text": [
      "Subscriptions in 2022: 19\n"
     ]
    }
   ],
   "source": [
    "import pandas as pd\n",
    "df_xx = pd.read_csv(\"E:\\RAG_Project\\data\\customers-100.csv\")\n",
    "# df_xx['Subscription Date'].value_counts()\n",
    "df_xx['Subscription Date'] = pd.to_datetime(df_xx['Subscription Date'], errors='coerce')\n",
    "\n",
    "# Filter for rows where 'Subscription Date' is in 2022\n",
    "df_2022 = df_xx[df_xx['Subscription Date'].dt.year == 2022]\n",
    "\n",
    "# Count subscriptions in 2022\n",
    "subscription_count_2022 = df_2022['Subscription Date'].count()\n",
    "print(\"Subscriptions in 2022:\", subscription_count_2022)"
   ]
  }
 ],
 "metadata": {
  "kernelspec": {
   "display_name": "venv",
   "language": "python",
   "name": "python3"
  },
  "language_info": {
   "codemirror_mode": {
    "name": "ipython",
    "version": 3
   },
   "file_extension": ".py",
   "mimetype": "text/x-python",
   "name": "python",
   "nbconvert_exporter": "python",
   "pygments_lexer": "ipython3",
   "version": "3.11.7"
  }
 },
 "nbformat": 4,
 "nbformat_minor": 2
}
