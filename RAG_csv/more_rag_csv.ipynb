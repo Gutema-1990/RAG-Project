{
 "cells": [
  {
   "cell_type": "code",
   "execution_count": 1,
   "metadata": {},
   "outputs": [],
   "source": [
    "import os \n",
    "import sys\n",
    "import pandas as pd\n",
    "from typing import List\n",
    "from beautifultable import BeautifulTable\n",
    "import camelot\n",
    "from dotenv import load_dotenv\n",
    "\n",
    "# Load environment variables from a .env file\n",
    "load_dotenv()\n",
    "pdf_csv_path = os.getenv(\"pdf_csv_path\")"
   ]
  },
  {
   "cell_type": "code",
   "execution_count": 2,
   "metadata": {},
   "outputs": [
    {
     "data": {
      "text/plain": [
       "'libgs.so.10'"
      ]
     },
     "execution_count": 2,
     "metadata": {},
     "output_type": "execute_result"
    }
   ],
   "source": [
    "from ctypes.util import find_library\n",
    "find_library(\"gs\")"
   ]
  },
  {
   "cell_type": "code",
   "execution_count": 3,
   "metadata": {},
   "outputs": [],
   "source": [
    "# use camelot to parse tables   \n",
    "def get_tables(path: str, pages: List[int]):    \n",
    "    for page in pages:\n",
    "        table_list = camelot.read_pdf(path, pages=str(page))\n",
    "        if table_list.n>0:\n",
    "            for tab in range(table_list.n):\n",
    "                \n",
    "                # Conversion of the the tables into the dataframes.\n",
    "                table_df = table_list[tab].df \n",
    "                \n",
    "                table_df = (\n",
    "                    table_df.rename(columns=table_df.iloc[0])\n",
    "                    .drop(table_df.index[0])\n",
    "                    .reset_index(drop=True)\n",
    "                )        \n",
    "                     \n",
    "                table_df = table_df.apply(lambda x: x.str.replace('\\n',''))\n",
    "                \n",
    "                # Change column names to be valid as XML tags\n",
    "                table_df.columns = [col.replace('\\n', ' ').replace(' ', '') for col in table_df.columns]\n",
    "                table_df.columns = [col.replace('(', '').replace(')', '') for col in table_df.columns]\n",
    "    \n",
    "    return table_df\n",
    "# extract data table from page number\n",
    "df = get_tables(pdf_csv_path, pages=[3])"
   ]
  },
  {
   "cell_type": "code",
   "execution_count": 5,
   "metadata": {},
   "outputs": [],
   "source": [
    "# prepare test set\n",
    "eval_df = pd.DataFrame(columns=[\"Data Format\", \"Data raw\"]) # , \"Question\", \"Answer\"\n",
    "\n",
    "# Save the data in JSON format\n",
    "data_json = df.to_json(orient='records')\n",
    "eval_df.loc[len(eval_df)] = [\"JSON\", data_json]\n",
    "\n",
    "# Save the data as a list of dictionaries\n",
    "data_list_dict = df.to_dict(orient='records')\n",
    "eval_df.loc[len(eval_df)] = [\"DICT\", data_list_dict]\n",
    "\n",
    "# Save the data in CSV format\n",
    "csv_data = df.to_csv(index=False)\n",
    "eval_df.loc[len(eval_df)] = [\"CSV\", csv_data]\n",
    "\n",
    "# Save the data in tab-separated format\n",
    "tsv_data = df.to_csv(index=False, sep='\\t')\n",
    "eval_df.loc[len(eval_df)] = [\"TSV (tab-separated)\", tsv_data]\n",
    "\n",
    "# Save the data in HTML format\n",
    "html_data = df.to_html(index=False)\n",
    "eval_df.loc[len(eval_df)] = [\"HTML\", html_data]\n",
    "\n",
    "# Save the data in LaTeX format\n",
    "latex_data = df.to_latex(index=False)\n",
    "eval_df.loc[len(eval_df)] = [\"LaTeX\", latex_data]\n",
    "\n",
    "# Save the data in Markdown format\n",
    "markdown_data = df.to_markdown(index=False)\n",
    "eval_df.loc[len(eval_df)] = [\"Markdown\", markdown_data]\n",
    "\n",
    "# Save the data as a string\n",
    "string_data = df.to_string(index=False)\n",
    "eval_df.loc[len(eval_df)] = [\"STRING\", string_data]\n",
    "\n",
    "# Save the data as a NumPy array\n",
    "numpy_data = df.to_numpy()\n",
    "eval_df.loc[len(eval_df)] = [\"NumPy\", numpy_data]\n",
    "\n",
    "# Save the data in XML format\n",
    "xml_data = df.to_xml(index=False)\n",
    "eval_df.loc[len(eval_df)] = [\"XML\", xml_data]"
   ]
  }
 ],
 "metadata": {
  "kernelspec": {
   "display_name": "venv",
   "language": "python",
   "name": "python3"
  },
  "language_info": {
   "codemirror_mode": {
    "name": "ipython",
    "version": 3
   },
   "file_extension": ".py",
   "mimetype": "text/x-python",
   "name": "python",
   "nbconvert_exporter": "python",
   "pygments_lexer": "ipython3",
   "version": "3.11.5"
  }
 },
 "nbformat": 4,
 "nbformat_minor": 2
}
