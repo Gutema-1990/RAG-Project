{
 "cells": [
  {
   "cell_type": "code",
   "execution_count": 1,
   "metadata": {},
   "outputs": [],
   "source": [
    "import os \n",
    "import sys\n",
    "import pandas as pd\n",
    "from typing import List\n",
    "from beautifultable import BeautifulTable\n",
    "import camelot\n",
    "from dotenv import load_dotenv\n",
    "\n",
    "# Load environment variables from a .env file\n",
    "load_dotenv()\n",
    "pdf_csv_path = os.getenv(\"pdf_csv_path\")"
   ]
  },
  {
   "cell_type": "code",
   "execution_count": 2,
   "metadata": {},
   "outputs": [
    {
     "ename": "OSError",
     "evalue": "Ghostscript is not installed. You can install it using the instructions here: https://camelot-py.readthedocs.io/en/master/user/install-deps.html",
     "output_type": "error",
     "traceback": [
      "\u001b[1;31m---------------------------------------------------------------------------\u001b[0m",
      "\u001b[1;31mOSError\u001b[0m                                   Traceback (most recent call last)",
      "Cell \u001b[1;32mIn[2], line 25\u001b[0m\n\u001b[0;32m     23\u001b[0m     \u001b[38;5;28;01mreturn\u001b[39;00m table_df\n\u001b[0;32m     24\u001b[0m \u001b[38;5;66;03m# extract data table from page number\u001b[39;00m\n\u001b[1;32m---> 25\u001b[0m df \u001b[38;5;241m=\u001b[39m \u001b[43mget_tables\u001b[49m\u001b[43m(\u001b[49m\u001b[43mpdf_csv_path\u001b[49m\u001b[43m,\u001b[49m\u001b[43m \u001b[49m\u001b[43mpages\u001b[49m\u001b[38;5;241;43m=\u001b[39;49m\u001b[43m[\u001b[49m\u001b[38;5;241;43m3\u001b[39;49m\u001b[43m]\u001b[49m\u001b[43m)\u001b[49m\n",
      "Cell \u001b[1;32mIn[2], line 4\u001b[0m, in \u001b[0;36mget_tables\u001b[1;34m(path, pages)\u001b[0m\n\u001b[0;32m      2\u001b[0m \u001b[38;5;28;01mdef\u001b[39;00m \u001b[38;5;21mget_tables\u001b[39m(path: \u001b[38;5;28mstr\u001b[39m, pages: List[\u001b[38;5;28mint\u001b[39m]):    \n\u001b[0;32m      3\u001b[0m     \u001b[38;5;28;01mfor\u001b[39;00m page \u001b[38;5;129;01min\u001b[39;00m pages:\n\u001b[1;32m----> 4\u001b[0m         table_list \u001b[38;5;241m=\u001b[39m \u001b[43mcamelot\u001b[49m\u001b[38;5;241;43m.\u001b[39;49m\u001b[43mread_pdf\u001b[49m\u001b[43m(\u001b[49m\u001b[43mpath\u001b[49m\u001b[43m,\u001b[49m\u001b[43m \u001b[49m\u001b[43mpages\u001b[49m\u001b[38;5;241;43m=\u001b[39;49m\u001b[38;5;28;43mstr\u001b[39;49m\u001b[43m(\u001b[49m\u001b[43mpage\u001b[49m\u001b[43m)\u001b[49m\u001b[43m)\u001b[49m\n\u001b[0;32m      5\u001b[0m         \u001b[38;5;28;01mif\u001b[39;00m table_list\u001b[38;5;241m.\u001b[39mn\u001b[38;5;241m>\u001b[39m\u001b[38;5;241m0\u001b[39m:\n\u001b[0;32m      6\u001b[0m             \u001b[38;5;28;01mfor\u001b[39;00m tab \u001b[38;5;129;01min\u001b[39;00m \u001b[38;5;28mrange\u001b[39m(table_list\u001b[38;5;241m.\u001b[39mn):\n\u001b[0;32m      7\u001b[0m                 \n\u001b[0;32m      8\u001b[0m                 \u001b[38;5;66;03m# Conversion of the the tables into the dataframes.\u001b[39;00m\n",
      "File \u001b[1;32me:\\RAG_Project\\venv\\Lib\\site-packages\\camelot\\io.py:113\u001b[0m, in \u001b[0;36mread_pdf\u001b[1;34m(filepath, pages, password, flavor, suppress_stdout, layout_kwargs, **kwargs)\u001b[0m\n\u001b[0;32m    111\u001b[0m p \u001b[38;5;241m=\u001b[39m PDFHandler(filepath, pages\u001b[38;5;241m=\u001b[39mpages, password\u001b[38;5;241m=\u001b[39mpassword)\n\u001b[0;32m    112\u001b[0m kwargs \u001b[38;5;241m=\u001b[39m remove_extra(kwargs, flavor\u001b[38;5;241m=\u001b[39mflavor)\n\u001b[1;32m--> 113\u001b[0m tables \u001b[38;5;241m=\u001b[39m \u001b[43mp\u001b[49m\u001b[38;5;241;43m.\u001b[39;49m\u001b[43mparse\u001b[49m\u001b[43m(\u001b[49m\n\u001b[0;32m    114\u001b[0m \u001b[43m    \u001b[49m\u001b[43mflavor\u001b[49m\u001b[38;5;241;43m=\u001b[39;49m\u001b[43mflavor\u001b[49m\u001b[43m,\u001b[49m\n\u001b[0;32m    115\u001b[0m \u001b[43m    \u001b[49m\u001b[43msuppress_stdout\u001b[49m\u001b[38;5;241;43m=\u001b[39;49m\u001b[43msuppress_stdout\u001b[49m\u001b[43m,\u001b[49m\n\u001b[0;32m    116\u001b[0m \u001b[43m    \u001b[49m\u001b[43mlayout_kwargs\u001b[49m\u001b[38;5;241;43m=\u001b[39;49m\u001b[43mlayout_kwargs\u001b[49m\u001b[43m,\u001b[49m\n\u001b[0;32m    117\u001b[0m \u001b[43m    \u001b[49m\u001b[38;5;241;43m*\u001b[39;49m\u001b[38;5;241;43m*\u001b[39;49m\u001b[43mkwargs\u001b[49m\n\u001b[0;32m    118\u001b[0m \u001b[43m\u001b[49m\u001b[43m)\u001b[49m\n\u001b[0;32m    119\u001b[0m \u001b[38;5;28;01mreturn\u001b[39;00m tables\n",
      "File \u001b[1;32me:\\RAG_Project\\venv\\Lib\\site-packages\\camelot\\handlers.py:176\u001b[0m, in \u001b[0;36mPDFHandler.parse\u001b[1;34m(self, flavor, suppress_stdout, layout_kwargs, **kwargs)\u001b[0m\n\u001b[0;32m    174\u001b[0m     parser \u001b[38;5;241m=\u001b[39m Lattice(\u001b[38;5;241m*\u001b[39m\u001b[38;5;241m*\u001b[39mkwargs) \u001b[38;5;28;01mif\u001b[39;00m flavor \u001b[38;5;241m==\u001b[39m \u001b[38;5;124m\"\u001b[39m\u001b[38;5;124mlattice\u001b[39m\u001b[38;5;124m\"\u001b[39m \u001b[38;5;28;01melse\u001b[39;00m Stream(\u001b[38;5;241m*\u001b[39m\u001b[38;5;241m*\u001b[39mkwargs)\n\u001b[0;32m    175\u001b[0m     \u001b[38;5;28;01mfor\u001b[39;00m p \u001b[38;5;129;01min\u001b[39;00m pages:\n\u001b[1;32m--> 176\u001b[0m         t \u001b[38;5;241m=\u001b[39m \u001b[43mparser\u001b[49m\u001b[38;5;241;43m.\u001b[39;49m\u001b[43mextract_tables\u001b[49m\u001b[43m(\u001b[49m\n\u001b[0;32m    177\u001b[0m \u001b[43m            \u001b[49m\u001b[43mp\u001b[49m\u001b[43m,\u001b[49m\u001b[43m \u001b[49m\u001b[43msuppress_stdout\u001b[49m\u001b[38;5;241;43m=\u001b[39;49m\u001b[43msuppress_stdout\u001b[49m\u001b[43m,\u001b[49m\u001b[43m \u001b[49m\u001b[43mlayout_kwargs\u001b[49m\u001b[38;5;241;43m=\u001b[39;49m\u001b[43mlayout_kwargs\u001b[49m\n\u001b[0;32m    178\u001b[0m \u001b[43m        \u001b[49m\u001b[43m)\u001b[49m\n\u001b[0;32m    179\u001b[0m         tables\u001b[38;5;241m.\u001b[39mextend(t)\n\u001b[0;32m    180\u001b[0m \u001b[38;5;28;01mreturn\u001b[39;00m TableList(\u001b[38;5;28msorted\u001b[39m(tables))\n",
      "File \u001b[1;32me:\\RAG_Project\\venv\\Lib\\site-packages\\camelot\\parsers\\lattice.py:421\u001b[0m, in \u001b[0;36mLattice.extract_tables\u001b[1;34m(self, filename, suppress_stdout, layout_kwargs)\u001b[0m\n\u001b[0;32m    416\u001b[0m         warnings\u001b[38;5;241m.\u001b[39mwarn(\n\u001b[0;32m    417\u001b[0m             \u001b[38;5;124m\"\u001b[39m\u001b[38;5;124mNo tables found on \u001b[39m\u001b[38;5;132;01m{}\u001b[39;00m\u001b[38;5;124m\"\u001b[39m\u001b[38;5;241m.\u001b[39mformat(os\u001b[38;5;241m.\u001b[39mpath\u001b[38;5;241m.\u001b[39mbasename(\u001b[38;5;28mself\u001b[39m\u001b[38;5;241m.\u001b[39mrootname))\n\u001b[0;32m    418\u001b[0m         )\n\u001b[0;32m    419\u001b[0m     \u001b[38;5;28;01mreturn\u001b[39;00m []\n\u001b[1;32m--> 421\u001b[0m \u001b[38;5;28;43mself\u001b[39;49m\u001b[38;5;241;43m.\u001b[39;49m\u001b[43mbackend\u001b[49m\u001b[38;5;241;43m.\u001b[39;49m\u001b[43mconvert\u001b[49m\u001b[43m(\u001b[49m\u001b[38;5;28;43mself\u001b[39;49m\u001b[38;5;241;43m.\u001b[39;49m\u001b[43mfilename\u001b[49m\u001b[43m,\u001b[49m\u001b[43m \u001b[49m\u001b[38;5;28;43mself\u001b[39;49m\u001b[38;5;241;43m.\u001b[39;49m\u001b[43mimagename\u001b[49m\u001b[43m)\u001b[49m\n\u001b[0;32m    423\u001b[0m \u001b[38;5;28mself\u001b[39m\u001b[38;5;241m.\u001b[39m_generate_table_bbox()\n\u001b[0;32m    425\u001b[0m _tables \u001b[38;5;241m=\u001b[39m []\n",
      "File \u001b[1;32me:\\RAG_Project\\venv\\Lib\\site-packages\\camelot\\backends\\ghostscript_backend.py:31\u001b[0m, in \u001b[0;36mGhostscriptBackend.convert\u001b[1;34m(self, pdf_path, png_path, resolution)\u001b[0m\n\u001b[0;32m     29\u001b[0m \u001b[38;5;28;01mdef\u001b[39;00m \u001b[38;5;21mconvert\u001b[39m(\u001b[38;5;28mself\u001b[39m, pdf_path, png_path, resolution\u001b[38;5;241m=\u001b[39m\u001b[38;5;241m300\u001b[39m):\n\u001b[0;32m     30\u001b[0m     \u001b[38;5;28;01mif\u001b[39;00m \u001b[38;5;129;01mnot\u001b[39;00m \u001b[38;5;28mself\u001b[39m\u001b[38;5;241m.\u001b[39minstalled():\n\u001b[1;32m---> 31\u001b[0m         \u001b[38;5;28;01mraise\u001b[39;00m \u001b[38;5;167;01mOSError\u001b[39;00m(\n\u001b[0;32m     32\u001b[0m             \u001b[38;5;124m\"\u001b[39m\u001b[38;5;124mGhostscript is not installed. You can install it using the instructions\u001b[39m\u001b[38;5;124m\"\u001b[39m\n\u001b[0;32m     33\u001b[0m             \u001b[38;5;124m\"\u001b[39m\u001b[38;5;124m here: https://camelot-py.readthedocs.io/en/master/user/install-deps.html\u001b[39m\u001b[38;5;124m\"\u001b[39m\n\u001b[0;32m     34\u001b[0m         )\n\u001b[0;32m     36\u001b[0m     \u001b[38;5;28;01mimport\u001b[39;00m \u001b[38;5;21;01mghostscript\u001b[39;00m\n\u001b[0;32m     38\u001b[0m     gs_command \u001b[38;5;241m=\u001b[39m [\n\u001b[0;32m     39\u001b[0m         \u001b[38;5;124m\"\u001b[39m\u001b[38;5;124mgs\u001b[39m\u001b[38;5;124m\"\u001b[39m,\n\u001b[0;32m     40\u001b[0m         \u001b[38;5;124m\"\u001b[39m\u001b[38;5;124m-q\u001b[39m\u001b[38;5;124m\"\u001b[39m,\n\u001b[1;32m   (...)\u001b[0m\n\u001b[0;32m     45\u001b[0m         pdf_path,\n\u001b[0;32m     46\u001b[0m     ]\n",
      "\u001b[1;31mOSError\u001b[0m: Ghostscript is not installed. You can install it using the instructions here: https://camelot-py.readthedocs.io/en/master/user/install-deps.html"
     ]
    }
   ],
   "source": [
    "# use camelot to parse tables   \n",
    "def get_tables(path: str, pages: List[int]):    \n",
    "    for page in pages:\n",
    "        table_list = camelot.read_pdf(path, pages=str(page))\n",
    "        if table_list.n>0:\n",
    "            for tab in range(table_list.n):\n",
    "                \n",
    "                # Conversion of the the tables into the dataframes.\n",
    "                table_df = table_list[tab].df \n",
    "                \n",
    "                table_df = (\n",
    "                    table_df.rename(columns=table_df.iloc[0])\n",
    "                    .drop(table_df.index[0])\n",
    "                    .reset_index(drop=True)\n",
    "                )        \n",
    "                     \n",
    "                table_df = table_df.apply(lambda x: x.str.replace('\\n',''))\n",
    "                \n",
    "                # Change column names to be valid as XML tags\n",
    "                table_df.columns = [col.replace('\\n', ' ').replace(' ', '') for col in table_df.columns]\n",
    "                table_df.columns = [col.replace('(', '').replace(')', '') for col in table_df.columns]\n",
    "    \n",
    "    return table_df\n",
    "# extract data table from page number\n",
    "df = get_tables(pdf_csv_path, pages=[3])"
   ]
  },
  {
   "cell_type": "code",
   "execution_count": 3,
   "metadata": {},
   "outputs": [],
   "source": [
    "import ctypes\n",
    "from ctypes.util import find_library\n",
    "find_library(\"\".join((\"gsdll\", str(ctypes.sizeof(ctypes.c_voidp) * 8), \".dll\")))"
   ]
  }
 ],
 "metadata": {
  "kernelspec": {
   "display_name": "venv",
   "language": "python",
   "name": "python3"
  },
  "language_info": {
   "codemirror_mode": {
    "name": "ipython",
    "version": 3
   },
   "file_extension": ".py",
   "mimetype": "text/x-python",
   "name": "python",
   "nbconvert_exporter": "python",
   "pygments_lexer": "ipython3",
   "version": "3.11.7"
  }
 },
 "nbformat": 4,
 "nbformat_minor": 2
}
