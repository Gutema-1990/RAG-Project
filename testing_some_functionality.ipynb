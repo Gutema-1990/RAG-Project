{
 "cells": [
  {
   "cell_type": "code",
   "execution_count": 3,
   "metadata": {},
   "outputs": [],
   "source": [
    "from langchain.text_splitter import RecursiveCharacterTextSplitter\n",
    "from langchain.vectorstores import FAISS\n",
    "import os\n",
    "from langchain_nomic import NomicEmbeddings\n",
    "from dotenv import load_dotenv\n",
    "# from openai.error import RateLimitError\n",
    "from langchain_openai import ChatOpenAI\n",
    "import networkx as nx\n",
    "import fitz\n",
    "from typing import List\n",
    "import numpy as np\n",
    "from knowledge_graph import KnowledgeGraph\n",
    "from query_engine import QueryEngine\n",
    "from langchain.document_loaders import  PyPDFLoader\n",
    "\n",
    "load_dotenv()  # Load environment variables from .env file\n",
    "\n",
    "api_key = os.getenv(\"NOMIC_API_KEY\")\n",
    "\n",
    "path = \"/home/name-1/AI-Agent/RAG_Project/RAG_Project/data/Understanding_Climate_Change.pdf\"\n",
    "loader = PyPDFLoader(path)\n",
    "documents = loader.load()\n",
    "documents = documents[:10]\n",
    "\n",
    "\n",
    "# DocumentProcessor's process_documents\n",
    "text_splitter = RecursiveCharacterTextSplitter(chunk_size=1000, chunk_overlap=200)\n",
    "embeddings =  NomicEmbeddings(model=\"nomic-embed-text-v1.5\",)\n",
    "splits = text_splitter.split_documents(documents)\n",
    "vector_store = FAISS.from_documents(splits, embeddings)"
   ]
  },
  {
   "cell_type": "code",
   "execution_count": 4,
   "metadata": {},
   "outputs": [],
   "source": [
    "\n",
    "knowledge_graph = KnowledgeGraph()\n",
    "llm = ChatOpenAI(\n",
    "                model=\"lmstudio-community/Meta-Llama-3.1-8B-Instruct-GGUF\",\n",
    "                base_url=\"http://10.2.125.37:1234/v1\",\n",
    "                api_key=\"lm-studio\"\n",
    "            )"
   ]
  },
  {
   "cell_type": "code",
   "execution_count": 5,
   "metadata": {},
   "outputs": [],
   "source": [
    "import networkx as nx\n",
    "# _add_nodes(splits)\n",
    "\n",
    "graph = nx.Graph()\n",
    "\n",
    "for i, split in enumerate(splits):\n",
    "    graph.add_node(i, content=split.page_content)"
   ]
  },
  {
   "cell_type": "code",
   "execution_count": 6,
   "metadata": {},
   "outputs": [],
   "source": [
    "# embeddings_xx = _create_embeddings(splits, embeddings)\n",
    "\n",
    "texts = [split.page_content for split in splits]\n",
    "embeddings_xx = embeddings.embed_documents(texts)"
   ]
  },
  {
   "cell_type": "code",
   "execution_count": null,
   "metadata": {},
   "outputs": [],
   "source": [
    "    # def build_graph(self, splits, llm, embedding_model):\n",
    "    #     \"\"\"\n",
    "    #     Builds the knowledge graph by adding nodes, creating embeddings, extracting concepts, and adding edges.\n",
    "        \n",
    "    #     Args:\n",
    "    #     - splits (list): A list of document splits.\n",
    "    #     - llm: An instance of a large language model.\n",
    "    #     - embedding_model: An instance of an embedding model.\n",
    "        \n",
    "    #     Returns:\n",
    "    #     - None\n",
    "    #     \"\"\"\n",
    "    #     self._add_nodes(splits)\n",
    "    #     embeddings = self._create_embeddings(splits, embedding_model)\n",
    "    #     self._extract_concepts(splits, llm)\n",
    "    #     self._add_edges(embeddings)"
   ]
  },
  {
   "cell_type": "code",
   "execution_count": 8,
   "metadata": {},
   "outputs": [],
   "source": [
    "# _extract_concepts(splits, llm)\n",
    "from concurrent.futures import ThreadPoolExecutor, as_completed\n",
    "import tqdm as tqdm\n",
    "from langchain_core.prompts import PromptTemplate\n",
    "# from typing import \n",
    "from langchain_core.pydantic_v1 import BaseModel, Field\n",
    "class Concepts(BaseModel):\n",
    "    concepts_list: List[str] = Field(description=\"List of concepts\")\n",
    "\n",
    "\n",
    "\n",
    "\n",
    "def _extract_concepts_and_entities(self, content, llm):\n",
    "        \"\"\"\n",
    "        Extracts concepts and named entities from the content using spaCy and a large language model.\n",
    "        \n",
    "        Args:\n",
    "        - content (str): The content from which to extract concepts and entities.\n",
    "        - llm: An instance of a large language model.\n",
    "        \n",
    "        Returns:\n",
    "        - list: A list of extracted concepts and entities.\n",
    "        \"\"\"\n",
    "        if content in self.concept_cache:\n",
    "            return self.concept_cache[content]\n",
    "        \n",
    "        # Extract named entities using spaCy\n",
    "        doc = self.nlp(content)\n",
    "        named_entities = [ent.text for ent in doc.ents if ent.label_ in [\"PERSON\", \"ORG\", \"GPE\", \"WORK_OF_ART\"]]\n",
    "        \n",
    "        # Extract general concepts using LLM\n",
    "        concept_extraction_prompt = PromptTemplate(\n",
    "            input_variables=[\"text\"],\n",
    "            template=\"Extract key concepts (excluding named entities) from the following text:\\n\\n{text}\\n\\nKey concepts:\"\n",
    "        )\n",
    "        concept_chain = concept_extraction_prompt | llm.with_structured_output(Concepts)\n",
    "        general_concepts = concept_chain.invoke({\"text\": content}).concepts_list\n",
    "        \n",
    "        # Combine named entities and general concepts\n",
    "        all_concepts = list(set(named_entities + general_concepts))\n",
    "        \n",
    "        self.concept_cache[content] = all_concepts\n",
    "        return all_concepts\n",
    "\n",
    "\n",
    "\n",
    "# with ThreadPoolExecutor() as executor:\n",
    "#     future_to_node = {executor.submit(_extract_concepts_and_entities, split.page_content, llm): i \n",
    "#                         for i, split in enumerate(splits)}\n",
    "    \n",
    "#     for future in tqdm(as_completed(future_to_node), total=len(splits), desc=\"Extracting concepts and entities\"):\n",
    "#         node = future_to_node[future]\n",
    "#         concepts = future.result()\n",
    "#         graph.nodes[node]['concepts'] = concepts\n"
   ]
  },
  {
   "cell_type": "code",
   "execution_count": 14,
   "metadata": {},
   "outputs": [],
   "source": [
    "import spacy\n",
    "from spacy.cli import download\n",
    "def _load_spacy_model():\n",
    "    \"\"\"\n",
    "    Loads the spaCy NLP model, downloading it if necessary.\n",
    "    \n",
    "    Args:\n",
    "    - None\n",
    "    \n",
    "    Returns:\n",
    "    - spacy.Language: An instance of a spaCy NLP model.\n",
    "    \"\"\"\n",
    "    try:\n",
    "        return spacy.load(\"en_core_web_sm\")\n",
    "    except OSError:\n",
    "        print(\"Downloading spaCy model...\")\n",
    "        download(\"en_core_web_sm\")\n",
    "        return spacy.load(\"en_core_web_sm\")"
   ]
  },
  {
   "cell_type": "code",
   "execution_count": 20,
   "metadata": {},
   "outputs": [],
   "source": [
    "nlp = _load_spacy_model()"
   ]
  },
  {
   "cell_type": "code",
   "execution_count": 25,
   "metadata": {},
   "outputs": [
    {
     "data": {
      "text/plain": [
       "PromptTemplate(input_variables=['text'], template='Extract key concepts (excluding named entities) from the following text:\\n\\n{text}\\n\\nKey concepts:')\n",
       "| RunnableBinding(bound=ChatOpenAI(client=<openai.resources.chat.completions.Completions object at 0x727a456d8c50>, async_client=<openai.resources.chat.completions.AsyncCompletions object at 0x727a36b69cd0>, root_client=<openai.OpenAI object at 0x727a3c2b0290>, root_async_client=<openai.AsyncOpenAI object at 0x727a3ebcbf90>, model_name='lmstudio-community/Meta-Llama-3.1-8B-Instruct-GGUF', openai_api_key=SecretStr('**********'), openai_api_base='http://10.2.125.37:1234/v1', openai_proxy=''), kwargs={'tools': [{'type': 'function', 'function': {'name': 'Concepts', 'description': '', 'parameters': {'type': 'object', 'properties': {'concepts_list': {'description': 'List of concepts', 'type': 'array', 'items': {'type': 'string'}}}, 'required': ['concepts_list']}}}], 'parallel_tool_calls': False, 'tool_choice': {'type': 'function', 'function': {'name': 'Concepts'}}})\n",
       "| PydanticToolsParser(first_tool_only=True, tools=[<class '__main__.Concepts'>])"
      ]
     },
     "execution_count": 25,
     "metadata": {},
     "output_type": "execute_result"
    }
   ],
   "source": [
    "# _extract_concepts_and_entities(split.page_content, llm)\n",
    "\n",
    "concept_cache = {}\n",
    "content = split.page_content\n",
    "\n",
    "if content in concept_cache:\n",
    "    concept_cache[content]\n",
    "\n",
    "\n",
    "doc = nlp(content)\n",
    "# doc\n",
    "named_entities = [ent.text for ent in doc.ents if ent.label_ in [\"PERSON\", \"ORG\", \"GPE\", \"WORK_OF_ART\"]]\n",
    "named_entities\n",
    "# Extract general concepts using LLM\n",
    "concept_extraction_prompt = PromptTemplate(\n",
    "    input_variables=[\"text\"],\n",
    "    template=\"Extract key concepts (excluding named entities) from the following text:\\n\\n{text}\\n\\nKey concepts:\"\n",
    ")\n",
    "concept_extraction_prompt\n",
    "concept_chain = concept_extraction_prompt | llm.with_structured_output(Concepts)\n",
    "concept_chain"
   ]
  },
  {
   "cell_type": "code",
   "execution_count": 26,
   "metadata": {},
   "outputs": [
    {
     "ename": "AttributeError",
     "evalue": "'NoneType' object has no attribute 'concepts_list'",
     "output_type": "error",
     "traceback": [
      "\u001b[0;31m---------------------------------------------------------------------------\u001b[0m",
      "\u001b[0;31mAttributeError\u001b[0m                            Traceback (most recent call last)",
      "Cell \u001b[0;32mIn[26], line 1\u001b[0m\n\u001b[0;32m----> 1\u001b[0m general_concepts \u001b[38;5;241m=\u001b[39m \u001b[43mconcept_chain\u001b[49m\u001b[38;5;241;43m.\u001b[39;49m\u001b[43minvoke\u001b[49m\u001b[43m(\u001b[49m\u001b[43m{\u001b[49m\u001b[38;5;124;43m\"\u001b[39;49m\u001b[38;5;124;43mtext\u001b[39;49m\u001b[38;5;124;43m\"\u001b[39;49m\u001b[43m:\u001b[49m\u001b[43m \u001b[49m\u001b[43mcontent\u001b[49m\u001b[43m}\u001b[49m\u001b[43m)\u001b[49m\u001b[38;5;241;43m.\u001b[39;49m\u001b[43mconcepts_list\u001b[49m\n\u001b[1;32m      2\u001b[0m general_concepts\n\u001b[1;32m      3\u001b[0m \u001b[38;5;66;03m# Combine named entities and general concepts\u001b[39;00m\n\u001b[1;32m      4\u001b[0m \u001b[38;5;66;03m# all_concepts = list(set(named_entities + general_concepts))\u001b[39;00m\n\u001b[1;32m      5\u001b[0m \u001b[38;5;66;03m# concept_cache[content] = all_concepts\u001b[39;00m\n\u001b[1;32m      6\u001b[0m \u001b[38;5;66;03m# all_concepts\u001b[39;00m\n",
      "\u001b[0;31mAttributeError\u001b[0m: 'NoneType' object has no attribute 'concepts_list'"
     ]
    }
   ],
   "source": [
    "general_concepts = concept_chain.invoke({\"text\": content}).concepts_list\n",
    "general_concepts\n",
    "# Combine named entities and general concepts\n",
    "# all_concepts = list(set(named_entities + general_concepts))\n",
    "# concept_cache[content] = all_concepts\n",
    "# all_concepts"
   ]
  },
  {
   "cell_type": "code",
   "execution_count": null,
   "metadata": {},
   "outputs": [],
   "source": [
    "_add_edges(embeddings_xx)"
   ]
  },
  {
   "cell_type": "code",
   "execution_count": 4,
   "metadata": {},
   "outputs": [
    {
     "name": "stderr",
     "output_type": "stream",
     "text": [
      "Extracting concepts and entities:   0%|          | 0/30 [00:11<?, ?it/s]\n"
     ]
    }
   ],
   "source": [
    "knowledge_graph.build_graph(splits, llm, embeddings)"
   ]
  },
  {
   "cell_type": "code",
   "execution_count": null,
   "metadata": {},
   "outputs": [],
   "source": [
    "query_engine = QueryEngine(vector_store, knowledge_graph, llm)"
   ]
  }
 ],
 "metadata": {
  "kernelspec": {
   "display_name": "venv",
   "language": "python",
   "name": "python3"
  },
  "language_info": {
   "codemirror_mode": {
    "name": "ipython",
    "version": 3
   },
   "file_extension": ".py",
   "mimetype": "text/x-python",
   "name": "python",
   "nbconvert_exporter": "python",
   "pygments_lexer": "ipython3",
   "version": "3.11.5"
  }
 },
 "nbformat": 4,
 "nbformat_minor": 2
}
