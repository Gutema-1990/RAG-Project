{
 "cells": [
  {
   "cell_type": "code",
   "execution_count": 1,
   "metadata": {},
   "outputs": [],
   "source": [
    "from pdf2image import convert_from_path\n",
    "from dotenv import load_dotenv\n",
    "load_dotenv()\n",
    "import os\n",
    "doc_path = os.getenv('pdf_coop')\n",
    "pages = convert_from_path(doc_path)"
   ]
  },
  {
   "cell_type": "code",
   "execution_count": 2,
   "metadata": {},
   "outputs": [],
   "source": [
    "import cv2\n",
    "import numpy as np\n",
    "\n",
    "def deskew(image):\n",
    "    gray = cv2.cvtColor(image, cv2.COLOR_BGR2GRAY)\n",
    "    gray = cv2.bitwise_not(gray)\n",
    "    coords = np.column_stack(np.where(gray > 0))\n",
    "    angle = cv2.minAreaRect(coords)[-1]\n",
    "    \n",
    "    if angle < -45:\n",
    "        angle = -(90 + angle)\n",
    "    else:\n",
    "        angle = -angle\n",
    "\n",
    "    (h, w) = image.shape[:2]\n",
    "    center = (w // 2, h // 2)\n",
    "    M = cv2.getRotationMatrix2D(center, angle, 1.0)\n",
    "    rotated = cv2.warpAffine(image, M, (w, h), flags=cv2.INTER_CUBIC, borderMode=cv2.BORDER_REPLICATE)\n",
    "\n",
    "    return rotated"
   ]
  },
  {
   "cell_type": "code",
   "execution_count": 3,
   "metadata": {},
   "outputs": [],
   "source": [
    "import pytesseract\n",
    "\n",
    "def extract_text_from_image(image):\n",
    "    text = pytesseract.image_to_string(image)\n",
    "    return text"
   ]
  },
  {
   "cell_type": "code",
   "execution_count": 4,
   "metadata": {},
   "outputs": [],
   "source": [
    "extracted_text = []\n",
    "\n",
    "for page in pages:\n",
    "    # Step 2: Preprocess the image (deskew)\n",
    "    preprocessed_image = deskew(np.array(page))\n",
    "\n",
    "    # Step 3: Extract text using OCR\n",
    "    text = extract_text_from_image(preprocessed_image)\n",
    "    extracted_text.append(text)"
   ]
  },
  {
   "cell_type": "code",
   "execution_count": 11,
   "metadata": {},
   "outputs": [
    {
     "name": "stdout",
     "output_type": "stream",
     "text": [
      "('DEPOSIT\\n'\n",
      " '\\n'\n",
      " 'PRODUCTS\\n'\n",
      " '\\n'\n",
      " 'LOCAL CURRENCY DEPOSIT PRODUCTS\\n'\n",
      " '\\n'\n",
      " 'ORDINARY\\n'\n",
      " '\\n'\n",
      " 'SAVING ACCOUNT\\n'\n",
      " 'PRODUCT OVERVIEW:\\n'\n",
      " '\\n'\n",
      " 'Is an interest-bearing option designed to cater\\n'\n",
      " 'to a diverse range of customers with a modest\\n'\n",
      " 'initial deposit of just Birr SO.\\n'\n",
      " '\\n'\n",
      " 'Key Features\\n'\n",
      " '\\n'\n",
      " '» It earns a competitive 7% interest\\n'\n",
      " 'rate, compounded.\\n'\n",
      " '\\n'\n",
      " 'e It can be opened without initial\\n'\n",
      " 'balance, allowing customer to\\n'\n",
      " 'establish a banking relationship\\n'\n",
      " 'effortlessly.\\n'\n",
      " '\\n'\n",
      " '» Flexible account ownership\\n'\n",
      " 'options: individual, joint, trust,\\n'\n",
      " 'legalized cooperatives, and organi-\\n'\n",
      " 'zations.\\n'\n",
      " '\\n'\n",
      " 'BENEFITS\\n'\n",
      " '\\n'\n",
      " '» Unrestricted deposits and with-\\n'\n",
      " 'drawals, subject only to regulations\\n'\n",
      " 'imposed by relevant authorities.\\n'\n",
      " '\\n'\n",
      " '* Convenience of seamless transac-\\n'\n",
      " 'tions through various channels,\\n'\n",
      " 'including ATM/POS cards, internet\\n'\n",
      " 'banking, and mobile services.\\n'\n",
      " '\\n'\n",
      " '» Zero transaction fees, providing our\\n'\n",
      " 'customers with a cost-effective\\n'\n",
      " 'and hassle-free banking experi-\\n'\n",
      " 'ence.\\n'\n",
      " '\\n'\n",
      " 'ELIGIBLE CANDIDATES:\\n'\n",
      " '\\n'\n",
      " 'Tailored for individuals and entities,\\n'\n",
      " 'including cooperatives and organiza-\\n'\n",
      " 'tions, seeking a versatile and reward-\\n'\n",
      " 'ing saving account monthly, maximiz-\\n'\n",
      " 'ing the growth of the savings.\\n'\n",
      " '\\n'\n",
      " 'TARGET\\n'\n",
      " 'CUSTOMERS\\n'\n",
      " '\\n'\n",
      " '4. Cooperatives\\n'\n",
      " '4 Organizations\\n'\n",
      " '«£4 Groups like Idir and Iqub\\n'\n",
      " '\\n'\n",
      " 'CROSS SELLING\\n'\n",
      " '\\n'\n",
      " 'eto PRODUCTS\\n'\n",
      " 'ee\\n'\n",
      " '\\n'\n",
      " '* Demand deposit accounts for\\n'\n",
      " 'business owners\\n'\n",
      " '\\n'\n",
      " 'REMARKS\\n'\n",
      " '\\n'\n",
      " 'This savings account is not just about\\n'\n",
      " 'preserving customers’ wealth; it is\\n'\n",
      " 'about providing the flexibility and\\n'\n",
      " 'accessibility that they deserve.\\n'\n",
      " '\\n'\n",
      " 'PRODUCT CATALOG\\n'\n",
      " '\\n'\n",
      " 'PAGE 03\\n')\n"
     ]
    }
   ],
   "source": [
    "from pprint import pprint\n",
    "pprint(extracted_text[4])"
   ]
  },
  {
   "cell_type": "code",
   "execution_count": 6,
   "metadata": {},
   "outputs": [
    {
     "ename": "TypeError",
     "evalue": "expected string or bytes-like object, got 'list'",
     "output_type": "error",
     "traceback": [
      "\u001b[0;31m---------------------------------------------------------------------------\u001b[0m",
      "\u001b[0;31mTypeError\u001b[0m                                 Traceback (most recent call last)",
      "Cell \u001b[0;32mIn[6], line 3\u001b[0m\n\u001b[1;32m      1\u001b[0m \u001b[38;5;28;01mfrom\u001b[39;00m \u001b[38;5;21;01mlangchain\u001b[39;00m\u001b[38;5;21;01m.\u001b[39;00m\u001b[38;5;21;01mtext_splitter\u001b[39;00m \u001b[38;5;28;01mimport\u001b[39;00m RecursiveCharacterTextSplitter\n\u001b[1;32m      2\u001b[0m text_splitter \u001b[38;5;241m=\u001b[39m RecursiveCharacterTextSplitter(chunk_size\u001b[38;5;241m=\u001b[39m\u001b[38;5;241m1000\u001b[39m, chunk_overlap\u001b[38;5;241m=\u001b[39m\u001b[38;5;241m200\u001b[39m)\n\u001b[0;32m----> 3\u001b[0m splits \u001b[38;5;241m=\u001b[39m \u001b[43mtext_splitter\u001b[49m\u001b[38;5;241;43m.\u001b[39;49m\u001b[43msplit_text\u001b[49m\u001b[43m(\u001b[49m\u001b[43mextracted_text\u001b[49m\u001b[43m)\u001b[49m\n\u001b[1;32m      4\u001b[0m splits[\u001b[38;5;241m0\u001b[39m]\n",
      "File \u001b[0;32m~/AI-Agent/RAG_Project/venv/lib/python3.11/site-packages/langchain_text_splitters/character.py:118\u001b[0m, in \u001b[0;36mRecursiveCharacterTextSplitter.split_text\u001b[0;34m(self, text)\u001b[0m\n\u001b[1;32m    117\u001b[0m \u001b[38;5;28;01mdef\u001b[39;00m \u001b[38;5;21msplit_text\u001b[39m(\u001b[38;5;28mself\u001b[39m, text: \u001b[38;5;28mstr\u001b[39m) \u001b[38;5;241m-\u001b[39m\u001b[38;5;241m>\u001b[39m List[\u001b[38;5;28mstr\u001b[39m]:\n\u001b[0;32m--> 118\u001b[0m     \u001b[38;5;28;01mreturn\u001b[39;00m \u001b[38;5;28;43mself\u001b[39;49m\u001b[38;5;241;43m.\u001b[39;49m\u001b[43m_split_text\u001b[49m\u001b[43m(\u001b[49m\u001b[43mtext\u001b[49m\u001b[43m,\u001b[49m\u001b[43m \u001b[49m\u001b[38;5;28;43mself\u001b[39;49m\u001b[38;5;241;43m.\u001b[39;49m\u001b[43m_separators\u001b[49m\u001b[43m)\u001b[49m\n",
      "File \u001b[0;32m~/AI-Agent/RAG_Project/venv/lib/python3.11/site-packages/langchain_text_splitters/character.py:88\u001b[0m, in \u001b[0;36mRecursiveCharacterTextSplitter._split_text\u001b[0;34m(self, text, separators)\u001b[0m\n\u001b[1;32m     86\u001b[0m     separator \u001b[38;5;241m=\u001b[39m _s\n\u001b[1;32m     87\u001b[0m     \u001b[38;5;28;01mbreak\u001b[39;00m\n\u001b[0;32m---> 88\u001b[0m \u001b[38;5;28;01mif\u001b[39;00m \u001b[43mre\u001b[49m\u001b[38;5;241;43m.\u001b[39;49m\u001b[43msearch\u001b[49m\u001b[43m(\u001b[49m\u001b[43m_separator\u001b[49m\u001b[43m,\u001b[49m\u001b[43m \u001b[49m\u001b[43mtext\u001b[49m\u001b[43m)\u001b[49m:\n\u001b[1;32m     89\u001b[0m     separator \u001b[38;5;241m=\u001b[39m _s\n\u001b[1;32m     90\u001b[0m     new_separators \u001b[38;5;241m=\u001b[39m separators[i \u001b[38;5;241m+\u001b[39m \u001b[38;5;241m1\u001b[39m :]\n",
      "File \u001b[0;32m~/anaconda3/lib/python3.11/re/__init__.py:176\u001b[0m, in \u001b[0;36msearch\u001b[0;34m(pattern, string, flags)\u001b[0m\n\u001b[1;32m    173\u001b[0m \u001b[38;5;28;01mdef\u001b[39;00m \u001b[38;5;21msearch\u001b[39m(pattern, string, flags\u001b[38;5;241m=\u001b[39m\u001b[38;5;241m0\u001b[39m):\n\u001b[1;32m    174\u001b[0m \u001b[38;5;250m    \u001b[39m\u001b[38;5;124;03m\"\"\"Scan through string looking for a match to the pattern, returning\u001b[39;00m\n\u001b[1;32m    175\u001b[0m \u001b[38;5;124;03m    a Match object, or None if no match was found.\"\"\"\u001b[39;00m\n\u001b[0;32m--> 176\u001b[0m     \u001b[38;5;28;01mreturn\u001b[39;00m \u001b[43m_compile\u001b[49m\u001b[43m(\u001b[49m\u001b[43mpattern\u001b[49m\u001b[43m,\u001b[49m\u001b[43m \u001b[49m\u001b[43mflags\u001b[49m\u001b[43m)\u001b[49m\u001b[38;5;241;43m.\u001b[39;49m\u001b[43msearch\u001b[49m\u001b[43m(\u001b[49m\u001b[43mstring\u001b[49m\u001b[43m)\u001b[49m\n",
      "\u001b[0;31mTypeError\u001b[0m: expected string or bytes-like object, got 'list'"
     ]
    }
   ],
   "source": [
    "\n",
    "from langchain.text_splitter import RecursiveCharacterTextSplitter\n",
    "text_splitter = RecursiveCharacterTextSplitter(chunk_size=1000, chunk_overlap=200)\n",
    "splits = text_splitter.split_text(extracted_text)\n",
    "splits[0]"
   ]
  }
 ],
 "metadata": {
  "kernelspec": {
   "display_name": "venv",
   "language": "python",
   "name": "python3"
  },
  "language_info": {
   "codemirror_mode": {
    "name": "ipython",
    "version": 3
   },
   "file_extension": ".py",
   "mimetype": "text/x-python",
   "name": "python",
   "nbconvert_exporter": "python",
   "pygments_lexer": "ipython3",
   "version": "3.11.6"
  }
 },
 "nbformat": 4,
 "nbformat_minor": 2
}
