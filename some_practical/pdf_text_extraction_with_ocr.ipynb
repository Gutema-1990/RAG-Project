{
 "cells": [
  {
   "cell_type": "code",
   "execution_count": 43,
   "metadata": {},
   "outputs": [],
   "source": [
    "from pdf2image import convert_from_path\n",
    "from dotenv import load_dotenv\n",
    "load_dotenv()\n",
    "import os\n",
    "doc_path = os.getenv('pdf_coop')\n",
    "pages = convert_from_path(doc_path)"
   ]
  },
  {
   "cell_type": "code",
   "execution_count": 44,
   "metadata": {},
   "outputs": [],
   "source": [
    "import cv2\n",
    "import numpy as np\n",
    "\n",
    "def deskew(image):\n",
    "    gray = cv2.cvtColor(image, cv2.COLOR_BGR2GRAY)\n",
    "    gray = cv2.bitwise_not(gray)\n",
    "    coords = np.column_stack(np.where(gray > 0))\n",
    "    angle = cv2.minAreaRect(coords)[-1]\n",
    "    \n",
    "    if angle < -45:\n",
    "        angle = -(90 + angle)\n",
    "    else:\n",
    "        angle = -angle\n",
    "\n",
    "    (h, w) = image.shape[:2]\n",
    "    center = (w // 2, h // 2)\n",
    "    M = cv2.getRotationMatrix2D(center, angle, 1.0)\n",
    "    rotated = cv2.warpAffine(image, M, (w, h), flags=cv2.INTER_CUBIC, borderMode=cv2.BORDER_REPLICATE)\n",
    "\n",
    "    return rotated"
   ]
  },
  {
   "cell_type": "code",
   "execution_count": 45,
   "metadata": {},
   "outputs": [],
   "source": [
    "import pytesseract\n",
    "\n",
    "def extract_text_from_image(image):\n",
    "    text = pytesseract.image_to_string(image)\n",
    "    return text"
   ]
  },
  {
   "cell_type": "code",
   "execution_count": 46,
   "metadata": {},
   "outputs": [],
   "source": [
    "extracted_texts = []\n",
    "\n",
    "for page in pages:\n",
    "    # Step 2: Preprocess the image (deskew)\n",
    "    preprocessed_image = deskew(np.array(page))\n",
    "\n",
    "    # Step 3: Extract text using OCR\n",
    "    text = extract_text_from_image(preprocessed_image)\n",
    "    extracted_texts.append(text)"
   ]
  },
  {
   "cell_type": "code",
   "execution_count": 47,
   "metadata": {},
   "outputs": [
    {
     "name": "stdout",
     "output_type": "stream",
     "text": [
      "('GAMME\\n'\n",
      " '\\n'\n",
      " 'JUNIOR SAVINGS ACCOUNT\\n'\n",
      " 'PRODUCT OVERVIEW:\\n'\n",
      " '\\n'\n",
      " 'This is specifically crafted for children aged\\n'\n",
      " \"0-14 years. It is established in the child's name\\n\"\n",
      " 'but is typically managed by parents or guard-\\n'\n",
      " 'ians until the child reaches an age where\\n'\n",
      " 'he/she can independently oversee their\\n'\n",
      " 'finances.\\n'\n",
      " '\\n'\n",
      " 'Key Features\\n'\n",
      " '\\n'\n",
      " 'e\\n'\n",
      " '\\n'\n",
      " 'The account is registered in the\\n'\n",
      " \"child's name, setting the founda-\\n\"\n",
      " 'tion for their financial future.\\n'\n",
      " 'Bears an interest rate of 7.175%,\\n'\n",
      " 'fostering the growth of their sav-\\n'\n",
      " 'ings.\\n'\n",
      " '\\n'\n",
      " 'Facilitates financial independence\\n'\n",
      " 'by enabling withdrawals when the\\n'\n",
      " 'junior accountholder reaches the\\n'\n",
      " 'age of youth.\\n'\n",
      " '\\n'\n",
      " 'Children demonstrating indepen-\\n'\n",
      " 'dent income, who initiate their\\n'\n",
      " 'account, enjoy unrestricted access\\n'\n",
      " 'to their deposits.\\n'\n",
      " '\\n'\n",
      " 'Receive a Birr 100 credit incentive\\n'\n",
      " 'when the average six-month\\n'\n",
      " 'deposit level reaches Birr 30,000\\n'\n",
      " 'and above.\\n'\n",
      " '\\n'\n",
      " 'BENEFITS\\n'\n",
      " '\\n'\n",
      " 'Establish a financial nest egg for\\n'\n",
      " 'children as they approach adult-\\n'\n",
      " 'hood.\\n'\n",
      " '\\n'\n",
      " 'Instill a savings culture from an\\n'\n",
      " 'early age, empowering parents to\\n'\n",
      " 'teach valuable financial lessons.\\n'\n",
      " 'Convenience of fee-free transac-\\n'\n",
      " 'tions, making banking interactions\\n'\n",
      " 'hassle-free.\\n'\n",
      " '\\n'\n",
      " 'Unlock additional incentives pro-\\n'\n",
      " 'vided by the bank, subject to speci-\\n'\n",
      " 'fied criteria.\\n'\n",
      " '\\n'\n",
      " 'ELIGIBLE CANDIDATES:\\n'\n",
      " '\\n'\n",
      " 'This account caters to newborns,\\n'\n",
      " 'infants, children under the age of\\n'\n",
      " 'fifteen, and those who engage in\\n'\n",
      " 'work up to the age of fifteen.\\n'\n",
      " '\\n'\n",
      " 'ay\\n'\n",
      " '\\n'\n",
      " 'TARGET\\n'\n",
      " 'CUSTOMERS\\n'\n",
      " '\\n'\n",
      " '& Newborn at Hospital\\n'\n",
      " '\\n'\n",
      " '& Student at school and Kinder-\\n'\n",
      " 'garten\\n'\n",
      " '\\n'\n",
      " '& NGOs that work with kids\\n'\n",
      " '\\n'\n",
      " 'CROSS SELLING\\n'\n",
      " 'eto PRODUCTS\\n'\n",
      " '\\n'\n",
      " 'WW * Gudunfa Gamme Saving\\n'\n",
      " 'account.\\n'\n",
      " '\\n'\n",
      " '* When they are of age, Darga-\\n'\n",
      " '\\n'\n",
      " 'go saving account.\\n'\n",
      " '\\n'\n",
      " 'REMARKS\\n'\n",
      " '\\n'\n",
      " 'It is a unique opportunity to pave the\\n'\n",
      " \"way for a child's financial success.\\n\"\n",
      " '\\n'\n",
      " 'PRODUCT CATALOG\\n'\n",
      " '\\n'\n",
      " 'PAGE 04\\n')\n"
     ]
    }
   ],
   "source": [
    "from pprint import pprint\n",
    "pprint(extracted_texts[5])"
   ]
  },
  {
   "cell_type": "code",
   "execution_count": 48,
   "metadata": {},
   "outputs": [],
   "source": [
    "import re\n",
    "\n",
    "def clean_text(text):\n",
    "    # Step 1: Remove hyphenated line breaks (e.g., 'guard-\\n ians' -> 'guardians')\n",
    "    cleaned_text = re.sub(r'-\\n\\s*', '', text)\n",
    "    \n",
    "    # Step 2: Replace single newlines between lines with spaces\n",
    "    cleaned_text = re.sub(r'(?<!\\n)\\n(?!\\n)', ' ', cleaned_text)\n",
    "    match = re.search(r'PAGE (\\d+)', text)\n",
    "    \n",
    "    # Step 3: Remove \"PRODUCT CATALOG\" and everything after\n",
    "    cleaned_text = re.sub(r'PRODUCT CATALOG.*$', '', cleaned_text, flags=re.DOTALL).strip()\n",
    "\n",
    "    # Step 4: Capture the page number and split the text at \"PAGE xx\"\n",
    "\n",
    "    \n",
    "    if match:\n",
    "        # print(\"match startes at: \",match.start())\n",
    "        # Split into content and page sections\n",
    "        content = cleaned_text[:match.start()].strip()\n",
    "        page = match.group()\n",
    "        # match_obj.group()\n",
    "    else:\n",
    "        content = cleaned_text\n",
    "        page = None  # No page section found\n",
    "    \n",
    "    return content\n",
    "# cleaned = clean_text(extracted_text[5])\n",
    "full_text = []\n",
    "for extracted_text in extracted_texts:\n",
    "    full_text.append(clean_text(extracted_text))   \n",
    "\n",
    "    # print(key)"
   ]
  },
  {
   "cell_type": "code",
   "execution_count": 49,
   "metadata": {},
   "outputs": [
    {
     "name": "stdout",
     "output_type": "stream",
     "text": [
      "Key: content, Value: This is the content.\n",
      "Key: page, Value: 04\n"
     ]
    }
   ],
   "source": [
    "# Example dictionary\n",
    "example_dict = {\n",
    "    'content': \"This is the content.\",\n",
    "    'page': '04'\n",
    "}\n",
    "\n",
    "# Loop through the dictionary to get keys and values\n",
    "for key, value in example_dict.items():\n",
    "    print(f\"Key: {key}, Value: {value}\")\n"
   ]
  },
  {
   "cell_type": "code",
   "execution_count": 50,
   "metadata": {},
   "outputs": [
    {
     "name": "stdout",
     "output_type": "stream",
     "text": [
      "No page number found\n"
     ]
    }
   ],
   "source": [
    "import re\n",
    "\n",
    "def find_page_match(text):\n",
    "    # Define the regular expression pattern to find \"PAGE xx\"\n",
    "    page_match = re.search(r'PAGE \\d+', text)\n",
    "    \n",
    "    if page_match:\n",
    "        print(page_match)  # This will output the match object\n",
    "        return page_match\n",
    "    else:\n",
    "        print(\"No page number found\")\n",
    "        return None\n",
    "\n",
    "# cleaned_text = re.sub(r'PRODUCT CATALOG.*$', '', cleaned_text, flags=re.DOTALL).strip()\n",
    "\n",
    "# Find the page match\n",
    "match_obj = find_page_match(extracted_text[5])\n",
    "\n",
    "# If needed, access properties of the match object\n",
    "if match_obj:\n",
    "    print(\"Span:\", match_obj.span())  # Output: (1663, 1670)\n",
    "    print(\"Start:\", match_obj.start())\n",
    "    print(\"Matched text:\", match_obj.group())  # Output: 'PAGE 04'\n"
   ]
  },
  {
   "cell_type": "code",
   "execution_count": 51,
   "metadata": {},
   "outputs": [],
   "source": [
    "\n",
    "# from langchain.text_splitter import RecursiveCharacterTextSplitter\n",
    "# text_splitter = RecursiveCharacterTextSplitter(chunk_size=1000, chunk_overlap=200)\n",
    "# splits = text_splitter.split_text(extracted_text)\n",
    "# splits[0]"
   ]
  }
 ],
 "metadata": {
  "kernelspec": {
   "display_name": "venv",
   "language": "python",
   "name": "python3"
  },
  "language_info": {
   "codemirror_mode": {
    "name": "ipython",
    "version": 3
   },
   "file_extension": ".py",
   "mimetype": "text/x-python",
   "name": "python",
   "nbconvert_exporter": "python",
   "pygments_lexer": "ipython3",
   "version": "3.11.6"
  }
 },
 "nbformat": 4,
 "nbformat_minor": 2
}
