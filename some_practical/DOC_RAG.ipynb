{
 "cells": [
  {
   "cell_type": "code",
   "execution_count": 2,
   "metadata": {},
   "outputs": [],
   "source": [
    "from langchain_community.document_loaders.csv_loader import CSVLoader\n",
    "from pathlib import Path\n",
    "from langchain_openai import ChatOpenAI,OpenAIEmbeddings\n",
    "import os\n",
    "from langchain.document_loaders import  PyPDFLoader\n",
    "from langchain.text_splitter import RecursiveCharacterTextSplitter\n",
    "from dotenv import load_dotenv\n",
    "\n",
    "# Load environment variables from a .env file\n",
    "load_dotenv()\n",
    "api_key = os.getenv(\"NOMIC_API_KEY\")\n",
    "url = os.getenv(\"base_url\")\n",
    "doc_path = os.getenv(\"pdf_coop\")"
   ]
  },
  {
   "cell_type": "code",
   "execution_count": 3,
   "metadata": {},
   "outputs": [],
   "source": [
    "# path = \"E:/RAG_Project/data/Understanding_Climate_Change.pdf\"\n",
    "loader = PyPDFLoader(doc_path)\n",
    "documents = loader.load()\n",
    "# documents = documents[:10]\n",
    "text_splitter = RecursiveCharacterTextSplitter(chunk_size=1000, chunk_overlap=200)\n",
    "splits = text_splitter.split_documents(documents)"
   ]
  },
  {
   "cell_type": "code",
   "execution_count": 12,
   "metadata": {},
   "outputs": [],
   "source": [
    "import faiss\n",
    "from langchain_community.docstore.in_memory import InMemoryDocstore\n",
    "from langchain_community.vectorstores import FAISS\n",
    "from langchain_nomic import NomicEmbeddings\n",
    "\n",
    "embeddings =  NomicEmbeddings(model=\"nomic-embed-text-v1.5\",)\n",
    "index = faiss.IndexFlatL2(len(embeddings.embed_query(\" \")))\n",
    "vector_store = FAISS(\n",
    "    embedding_function=embeddings,\n",
    "    index=index,\n",
    "    docstore=InMemoryDocstore(),\n",
    "    index_to_docstore_id={}\n",
    ")"
   ]
  },
  {
   "cell_type": "code",
   "execution_count": 13,
   "metadata": {},
   "outputs": [
    {
     "data": {
      "text/plain": [
       "['6e0ad395-1ecf-49e3-8a38-bc1ddd036047',\n",
       " '656c0b2f-78c5-4272-9467-4237fe670d09',\n",
       " '7dc56e1d-345d-4976-982e-78b8026a14a2',\n",
       " 'be245b31-5b32-45ca-8136-9fff2c5a502d',\n",
       " '32aad846-baed-4782-8162-64e01c1957e0',\n",
       " 'e20a2112-0d0b-4a00-912c-20392bbdda39',\n",
       " '87715179-ab13-4942-8cf3-d7bac8393de8',\n",
       " '2a692a89-7853-4b54-8974-b5280055114d',\n",
       " '1d7325e1-9bd0-4b9b-8d8f-abe360f11a9b',\n",
       " '74b0b09d-2c3f-4cc1-9e5c-a0724a338367',\n",
       " '59a66cdd-2ac5-4937-bdce-4c28ed80b6e0',\n",
       " '059c45e2-a095-47d6-a779-806829af5dfb',\n",
       " '7c5c96ed-46f1-4b0a-b2dc-10947be09b16',\n",
       " '3dfa48a0-8ed1-4266-b424-a5d43e11020b',\n",
       " '5438b23b-acb4-4780-9f3e-cd7547058a2e',\n",
       " '8074d467-99f8-46ca-b903-9725ee55b317',\n",
       " 'd8d3c335-c0c8-4a57-af8a-2da3322b2e70',\n",
       " 'e2666be7-cdb9-4c41-841d-312c3be084b5',\n",
       " 'f28af9e1-df85-4680-bc6a-d983870270a4',\n",
       " '73727bdb-4009-4a12-9d79-29697551ffab',\n",
       " '5101b5c6-57fa-4bcd-8728-1a260f7c7373',\n",
       " '5d277b3e-6893-4f6a-9c77-6e498d516852',\n",
       " 'f7c05a64-aa95-4029-a98c-691d17fb7faa',\n",
       " '87ec088b-b5c0-4072-95fc-1ee7496c3b24',\n",
       " '4ac704fc-6f68-4cda-8e20-a25b0ad915dd',\n",
       " 'f3484483-9842-4e16-b895-fe17089348ff',\n",
       " '0431709d-6b94-4cbd-a765-1d7edbf64d26',\n",
       " 'c733eb91-52b0-4c4f-a0a9-51a663394026',\n",
       " '4ba07ca5-abde-473d-a182-2a65e99d3a5b',\n",
       " '6c033528-d45a-4a52-b598-e3261b18060f',\n",
       " '8a096781-bd3b-4dab-a85a-d1e4137bceb1',\n",
       " '17afbcc8-18bb-4257-b154-ed8b1d3ed443',\n",
       " '9c58392c-8121-47de-b384-368626d4110f',\n",
       " '7132fd80-6b55-4c99-8e83-d1e86c62c8f1',\n",
       " 'f2006257-54ad-4029-bc05-fdbb44874d3c',\n",
       " 'e16a055d-4a31-4d51-9878-cf475036ce23',\n",
       " '1a11708b-ffd3-4220-be3a-4c6abbda92a1',\n",
       " 'b9343a24-5ceb-4227-aa39-e027a3559f5a',\n",
       " 'ee0b1d23-3cfa-48ff-bdaa-777f047095e7',\n",
       " '37db5b25-38a9-4579-be7f-b6c9853d5a27',\n",
       " 'fd7aabd6-0072-4082-909c-48881b1b1fb7',\n",
       " 'e527f2a2-add4-4f07-a790-b89e6d4d6bd4',\n",
       " '4e3fc841-20e7-460d-9709-a07944ee52f3',\n",
       " 'ede51e3e-0671-4c52-9b2d-2fe8fb77e1a7',\n",
       " 'c5057dfa-3483-4abd-bfba-e0f86663c541',\n",
       " 'a9f94c95-52b0-418b-9aaa-b446f8f15aa1',\n",
       " '2b1ee25d-f6f6-4da8-9d81-a1f138fe7bf3',\n",
       " '3643253e-238c-49e0-8ab5-4b2a1f40494c',\n",
       " '73a25f69-03d5-4acb-b910-fcd716c46a82',\n",
       " '182889ca-3d0f-43e4-8977-fe49e96c72d9',\n",
       " '5732a0aa-da99-45e7-b855-6c82449a95b4',\n",
       " 'b1c1dc8f-80ad-4f00-9066-114c9ea88a36',\n",
       " 'd15bcfac-3105-4add-8558-cabfcbefb8bf',\n",
       " '7221e8bf-c887-43c6-981a-7167be943785',\n",
       " '1547e823-66dc-4179-a233-109409eea80e',\n",
       " '0a7bc766-2d6b-41e6-a5e0-011f7f72f3da',\n",
       " 'c7ecf983-ebf2-4ceb-8681-9c65987c7e5c',\n",
       " 'b0b5d4ea-7f2f-49d7-ba01-fdcc681a5553',\n",
       " '7e63bcc8-4e8f-4719-9859-7f2691f353ab',\n",
       " '6d5af806-84aa-46bf-aa38-e67be6681085',\n",
       " '6ebc63e3-3c02-4b20-bc2f-68584db47167',\n",
       " 'e9cd2e13-c766-4162-8610-4ffe3d324692',\n",
       " '8fa6dd49-f577-4cd5-b396-38f58b527d16',\n",
       " 'ed2835f2-eae5-4c5b-be4e-3afc9ab23627',\n",
       " '6798d9d6-f9d4-45b4-94ce-179e698ed108',\n",
       " '0abb1422-9617-46c6-988a-68457bcbaafc',\n",
       " 'a94c0d4d-b602-40f4-854b-180ccb8e6e4c',\n",
       " '4ad93522-a6b4-4158-9b4a-5e4c17357434',\n",
       " '7bbd041c-e60e-4c31-9c77-5a600450f30e',\n",
       " 'd7e2898c-a9e8-4d2a-9b2f-0a5a4841483a',\n",
       " '57bd89ce-dc70-444f-ab43-8bc03c13fe17',\n",
       " 'd0e7ff1d-63af-48c6-9ab1-c34e3de52a87',\n",
       " '13608d28-1726-4268-befe-245cf99ecb6f',\n",
       " 'b5fb9aa6-ea80-41fa-93db-28b59f503531',\n",
       " '685dd05e-5c36-49ad-95ba-f28ede4d114a',\n",
       " 'c7ca59b7-9b02-4c7c-83cf-c36d4f18d947',\n",
       " '3a646741-64bf-429d-a68d-69678a67733c',\n",
       " 'e214ed4a-8028-48d2-a7b9-db45dd12e8ed',\n",
       " '6a235c5d-453f-43b4-9689-ac67beff52b8',\n",
       " '3ec16433-eaa8-42c3-ab15-8089af5b8e76',\n",
       " 'dc07bd6e-d202-4074-a3f2-fc2bd3a377c8',\n",
       " 'b4f4db82-82ce-4eb4-abd1-85251f6cfe2f',\n",
       " '236166f9-4fdc-43cd-a83e-d2253d04b6ea',\n",
       " 'c2cc1995-c8a3-42f8-833e-2d2366340f20',\n",
       " '29f50d92-f12d-4547-8041-5450f29f65ac',\n",
       " 'bf94f4c0-32e5-48b6-a429-30e5c21436db',\n",
       " 'b131bf68-a1f0-4cb1-afe3-dd2fdb51fdbf',\n",
       " '3c22805c-b9ce-4314-a464-8ccb5febf078',\n",
       " '3b98f60f-e81a-4c10-b312-430e55becf21',\n",
       " '45d35273-4642-42a9-ba68-710097e24958',\n",
       " 'a84257f0-40d0-4577-9adc-0108503290f2',\n",
       " '6c037f85-d82b-4786-a93d-7f86043d442c',\n",
       " '47a3e6bf-b584-49d4-afad-6d7b8661590f',\n",
       " 'f7d97a1d-27af-4d92-a160-66528e0d6660',\n",
       " '0d35c057-9a67-4fb4-894e-1fc21f6ed1f4',\n",
       " 'd6015afb-c707-4318-8d65-c1ed92520d36',\n",
       " 'd41e0418-815a-4705-bbde-9da867b02c2d',\n",
       " '2dcc1227-6a5a-497a-b661-2f52bea2faa1',\n",
       " '92049f4d-4482-4bd8-bc53-98261da7ceec',\n",
       " '8f0d5339-a296-4d60-81d0-16aecfa59c66']"
      ]
     },
     "execution_count": 13,
     "metadata": {},
     "output_type": "execute_result"
    }
   ],
   "source": [
    "vector_store.add_documents(documents=docs)"
   ]
  },
  {
   "cell_type": "code",
   "execution_count": 14,
   "metadata": {},
   "outputs": [],
   "source": [
    "from langchain_core.prompts import ChatPromptTemplate\n",
    "from langchain.chains import create_retrieval_chain\n",
    "from langchain.chains.combine_documents import create_stuff_documents_chain\n",
    "\n",
    "retriever = vector_store.as_retriever()\n",
    "llm = ChatOpenAI(\n",
    "                model=\"lmstudio-community/Meta-Llama-3.1-8B-Instruct-GGUF\",\n",
    "                base_url=url,\n",
    "                api_key=\"lm-studio\"\n",
    "            )\n",
    "# Set up system prompt\n",
    "system_prompt = (\n",
    "    \"You are an assistant for question-answering tasks. \"\n",
    "    \"Use the following pieces of retrieved context to answer \"\n",
    "    \"the question. If you don't know the answer, say that you \"\n",
    "    \"don't know. Use three sentences maximum and keep the \"\n",
    "    \"answer concise.\"\n",
    "    \"\\n\\n\"\n",
    "    \"{context}\"\n",
    ")\n",
    "\n",
    "prompt = ChatPromptTemplate.from_messages([\n",
    "    (\"system\", system_prompt),\n",
    "    (\"human\", \"{input}\"),\n",
    "    \n",
    "])\n",
    "\n",
    "# Create the question-answer chain\n",
    "question_answer_chain = create_stuff_documents_chain(llm, prompt)\n",
    "rag_chain = create_retrieval_chain(retriever, question_answer_chain)"
   ]
  },
  {
   "cell_type": "code",
   "execution_count": 15,
   "metadata": {},
   "outputs": [
    {
     "data": {
      "text/plain": [
       "'Sheryl Baxter works for Rasmussen Group.'"
      ]
     },
     "execution_count": 15,
     "metadata": {},
     "output_type": "execute_result"
    }
   ],
   "source": [
    "answer= rag_chain.invoke({\"input\": \"which company does sheryl Baxter work for?\"})\n",
    "answer['answer']"
   ]
  },
  {
   "cell_type": "code",
   "execution_count": 16,
   "metadata": {},
   "outputs": [
    {
     "data": {
      "text/plain": [
       "\"Sheryl Baxter's subscription date is 2020-08-24. She has another entry with a different last name, Meyers, but the subscription date for Sheryl Baxter is this one.\""
      ]
     },
     "execution_count": 16,
     "metadata": {},
     "output_type": "execute_result"
    }
   ],
   "source": [
    "# Sheryl\n",
    "answer= rag_chain.invoke({\"input\": \"what is  subscription date sheryl Baxter?\"})\n",
    "answer['answer']"
   ]
  }
 ],
 "metadata": {
  "kernelspec": {
   "display_name": "venv",
   "language": "python",
   "name": "python3"
  },
  "language_info": {
   "codemirror_mode": {
    "name": "ipython",
    "version": 3
   },
   "file_extension": ".py",
   "mimetype": "text/x-python",
   "name": "python",
   "nbconvert_exporter": "python",
   "pygments_lexer": "ipython3",
   "version": "3.11.6"
  }
 },
 "nbformat": 4,
 "nbformat_minor": 2
}
