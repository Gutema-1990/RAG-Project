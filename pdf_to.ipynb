{
 "cells": [
  {
   "cell_type": "code",
   "execution_count": null,
   "metadata": {},
   "outputs": [],
   "source": [
    "import PyPDF2\n",
    "\n",
    "def split_pdf(input_pdf_path, output_folder):\n",
    "    # Open the input PDF file\n",
    "    with open(input_pdf_path, 'rb') as input_pdf:\n",
    "        reader = PyPDF2.PdfReader(input_pdf)\n",
    "\n",
    "        # Loop through each page and create a separate PDF\n",
    "        for page_num in range(len(reader.pages)):\n",
    "            writer = PyPDF2.PdfWriter()\n",
    "            writer.add_page(reader.pages[page_num])\n",
    "\n",
    "            # Define the output path for the single-page PDF\n",
    "            output_pdf_path = f\"{output_folder}/page_{page_num + 1}.pdf\"\n",
    "\n",
    "            # Write the single page to a new PDF file\n",
    "            with open(output_pdf_path, 'wb') as output_pdf:\n",
    "                writer.write(output_pdf)\n",
    "\n",
    "            print(f\"Created {output_pdf_path}\")\n",
    "\n",
    "# Example usage\n",
    "input_pdf_path = \"/home/name-1/AI-Agent/RAG_Project/RAG_Project/data/Product Catalog_2 (1).pdf\"\n",
    "output_folder = \"/home/name-1/AI-Agent/RAG_Project/RAG_Project/data/whole_pdf\"  # Make sure the folder exists\n",
    "split_pdf(input_pdf_path, output_folder)\n"
   ]
  }
 ],
 "metadata": {
  "kernelspec": {
   "display_name": "venv",
   "language": "python",
   "name": "python3"
  },
  "language_info": {
   "codemirror_mode": {
    "name": "ipython",
    "version": 3
   },
   "file_extension": ".py",
   "mimetype": "text/x-python",
   "name": "python",
   "nbconvert_exporter": "python",
   "pygments_lexer": "ipython3",
   "version": "3.11.6"
  }
 },
 "nbformat": 4,
 "nbformat_minor": 2
}
